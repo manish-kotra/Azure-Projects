{
 "cells": [
  {
   "cell_type": "markdown",
   "metadata": {
    "application/vnd.databricks.v1+cell": {
     "cellMetadata": {},
     "inputWidgets": {},
     "nuid": "69e6c625-cfaa-47d9-850d-70716530fc02",
     "showTitle": false,
     "title": ""
    }
   },
   "source": [
    "# Assignment 2: Apache Spark"
   ]
  },
  {
   "cell_type": "code",
   "execution_count": 0,
   "metadata": {
    "application/vnd.databricks.v1+cell": {
     "cellMetadata": {
      "byteLimit": 2048000,
      "rowLimit": 10000
     },
     "inputWidgets": {},
     "nuid": "d2ab1237-e911-4cf9-814c-f4d883926574",
     "showTitle": false,
     "title": ""
    }
   },
   "outputs": [],
   "source": [
    "from pyspark.sql import SparkSession\n",
    "from pyspark.sql.types import *\n",
    "from pyspark.sql.functions import * \n",
    "\n",
    "spark = SparkSession.builder.appName(\"Kurama\").getOrCreate()"
   ]
  },
  {
   "cell_type": "code",
   "execution_count": 0,
   "metadata": {
    "application/vnd.databricks.v1+cell": {
     "cellMetadata": {
      "byteLimit": 2048000,
      "rowLimit": 10000
     },
     "inputWidgets": {},
     "nuid": "a6bb250c-9bc2-4f69-a8fa-f4507af4c6b9",
     "showTitle": false,
     "title": ""
    }
   },
   "outputs": [],
   "source": [
    "# dbutils.fs.rm(\"dbfs:/FileStore/tables/shakespeare_1.txt\")"
   ]
  },
  {
   "cell_type": "markdown",
   "metadata": {
    "application/vnd.databricks.v1+cell": {
     "cellMetadata": {},
     "inputWidgets": {},
     "nuid": "1aaa8ebc-ca33-443d-8db7-3b1a01d75fa3",
     "showTitle": false,
     "title": ""
    }
   },
   "source": [
    "#Part A"
   ]
  },
  {
   "cell_type": "markdown",
   "metadata": {
    "application/vnd.databricks.v1+cell": {
     "cellMetadata": {
      "byteLimit": 2048000,
      "rowLimit": 10000
     },
     "inputWidgets": {},
     "nuid": "f38a13cf-b4b8-4fb4-8d8d-b12dea94041b",
     "showTitle": false,
     "title": ""
    }
   },
   "source": [
    "##### Question 1: Count the odd and even numbers using the file ‘integer.txt’ and download it from Quercus. Show your code and output."
   ]
  },
  {
   "cell_type": "code",
   "execution_count": 0,
   "metadata": {
    "application/vnd.databricks.v1+cell": {
     "cellMetadata": {
      "byteLimit": 2048000,
      "rowLimit": 10000
     },
     "inputWidgets": {},
     "nuid": "5d96759e-5c5c-43fb-9ff1-745fd4dcb1b5",
     "showTitle": false,
     "title": ""
    }
   },
   "outputs": [
    {
     "output_type": "stream",
     "name": "stdout",
     "output_type": "stream",
     "text": [
      "Out[30]: 2"
     ]
    }
   ],
   "source": [
    "integerRDD = spark.sparkContext.textFile(\"dbfs:/FileStore/tables/integer.txt\")\n",
    "integerRDD.getNumPartitions()"
   ]
  },
  {
   "cell_type": "code",
   "execution_count": 0,
   "metadata": {
    "application/vnd.databricks.v1+cell": {
     "cellMetadata": {
      "byteLimit": 2048000,
      "rowLimit": 10000
     },
     "inputWidgets": {},
     "nuid": "fa044024-46dc-4e17-a90c-e642c4b78d35",
     "showTitle": false,
     "title": ""
    }
   },
   "outputs": [
    {
     "output_type": "stream",
     "name": "stdout",
     "output_type": "stream",
     "text": [
      "{'even': 514, 'odd': 496}"
     ]
    }
   ],
   "source": [
    "integerArray    = integerRDD.map(lambda x: int(x))\n",
    "tagsArray       = integerArray.map(lambda x: (\"even\" if x % 2 == 0 else \"odd\", 1))\n",
    "countsArray     = tagsArray.reduceByKey(lambda k,v: k+v)\n",
    "countsArrayDict = dict(countsArray.collect())\n",
    "display(countsArrayDict)"
   ]
  },
  {
   "cell_type": "markdown",
   "metadata": {
    "application/vnd.databricks.v1+cell": {
     "cellMetadata": {},
     "inputWidgets": {},
     "nuid": "e4b60be4-2f08-4ac3-af88-3a56ecc5dbf4",
     "showTitle": false,
     "title": ""
    }
   },
   "source": [
    "##### Question 2: Calculate the salary sum per department using the file ‘salary.txt’ and download it from Quercus. Show the department name and salary sum. Show your code and output."
   ]
  },
  {
   "cell_type": "code",
   "execution_count": 0,
   "metadata": {
    "application/vnd.databricks.v1+cell": {
     "cellMetadata": {
      "byteLimit": 2048000,
      "rowLimit": 10000
     },
     "inputWidgets": {},
     "nuid": "86597192-c062-47e9-bf68-82094a63ac1d",
     "showTitle": false,
     "title": ""
    }
   },
   "outputs": [
    {
     "output_type": "stream",
     "name": "stdout",
     "output_type": "stream",
     "text": [
      "Out[32]: 2"
     ]
    }
   ],
   "source": [
    "salaryRDD = spark.sparkContext.textFile(\"dbfs:/FileStore/tables/salary.txt\")\n",
    "salaryRDD.getNumPartitions()"
   ]
  },
  {
   "cell_type": "code",
   "execution_count": 0,
   "metadata": {
    "application/vnd.databricks.v1+cell": {
     "cellMetadata": {
      "byteLimit": 2048000,
      "rowLimit": 10000
     },
     "inputWidgets": {},
     "nuid": "b9025525-e041-4704-b14a-81df7c218517",
     "showTitle": false,
     "title": ""
    }
   },
   "outputs": [
    {
     "output_type": "stream",
     "name": "stdout",
     "output_type": "stream",
     "text": [
      "{'Sales': 3488491.0,\n 'Research': 3328284.0,\n 'Developer': 3221394.0,\n 'QA': 3360624.0,\n 'Marketing': 3158450.0}"
     ]
    }
   ],
   "source": [
    "salaryList          = salaryRDD.map(lambda x: x.split(\" \"))\n",
    "salaryArray         = salaryList.map(lambda x: (x[0], float(x[1])))\n",
    "departmentSalary    = salaryArray.reduceByKey(lambda k,v: k+v)\n",
    "departmentSalaryDict= dict(departmentSalary.collect())\n",
    "display(departmentSalaryDict)"
   ]
  },
  {
   "cell_type": "markdown",
   "metadata": {
    "application/vnd.databricks.v1+cell": {
     "cellMetadata": {},
     "inputWidgets": {},
     "nuid": "5a45d887-14e5-4275-b4ec-a77de1cf1b77",
     "showTitle": false,
     "title": ""
    }
   },
   "source": [
    "##### Question 3: Implement MapReduce using PySpark on file ‘shakespeare.txt’ and download it from the Quercus. Show how many times these particular words appear in the document: Shakespeare, When, Lord, Library, GUTENBERG, WILLIAM, COLLEGE and WORLD. (Count exact words only)"
   ]
  },
  {
   "cell_type": "code",
   "execution_count": 0,
   "metadata": {
    "application/vnd.databricks.v1+cell": {
     "cellMetadata": {
      "byteLimit": 2048000,
      "rowLimit": 10000
     },
     "inputWidgets": {},
     "nuid": "cba3a5e9-ed00-4792-974e-0d707a40fe4c",
     "showTitle": false,
     "title": ""
    }
   },
   "outputs": [
    {
     "output_type": "stream",
     "name": "stdout",
     "output_type": "stream",
     "text": [
      "Out[34]: 2"
     ]
    }
   ],
   "source": [
    "shakespearRDD = spark.sparkContext.textFile(\"dbfs:/FileStore/tables/shakespeare.txt\")\n",
    "shakespearRDD.getNumPartitions()"
   ]
  },
  {
   "cell_type": "code",
   "execution_count": 0,
   "metadata": {
    "application/vnd.databricks.v1+cell": {
     "cellMetadata": {
      "byteLimit": 2048000,
      "rowLimit": 10000
     },
     "inputWidgets": {},
     "nuid": "3a7b4d21-e0d7-42a1-bab7-2c8dbdb522c3",
     "showTitle": false,
     "title": ""
    }
   },
   "outputs": [
    {
     "output_type": "stream",
     "name": "stdout",
     "output_type": "stream",
     "text": [
      "Out[35]: {'COLLEGE',\n 'GUTENBERG',\n 'Library',\n 'Lord',\n 'Shakespeare',\n 'WILLIAM',\n 'WORLD',\n 'When'}"
     ]
    }
   ],
   "source": [
    "wordList = {\"Shakespeare\", \"When\", \"Lord\", \"Library\", \"GUTENBERG\", \"WILLIAM\", \"COLLEGE\", \"WORLD\"}\n",
    "wordList"
   ]
  },
  {
   "cell_type": "code",
   "execution_count": 0,
   "metadata": {
    "application/vnd.databricks.v1+cell": {
     "cellMetadata": {
      "byteLimit": 2048000,
      "rowLimit": 10000
     },
     "inputWidgets": {},
     "nuid": "21a07702-a9bd-4343-9b33-6cfacc2d6479",
     "showTitle": false,
     "title": ""
    }
   },
   "outputs": [
    {
     "output_type": "stream",
     "name": "stdout",
     "output_type": "stream",
     "text": [
      "{'Shakespeare': 22,\n 'GUTENBERG': 99,\n 'WILLIAM': 127,\n 'WORLD': 98,\n 'COLLEGE': 98,\n 'When': 405,\n 'Lord': 399,\n 'Library': 4}"
     ]
    }
   ],
   "source": [
    "ssWordList          = shakespearRDD.flatMap(lambda x: x.split(\" \")).map(lambda word: word.strip(\",.!?;:\\\"\\'\"))\n",
    "filteredWordList    = ssWordList.filter(lambda word: word in wordList)\n",
    "filteredWordListTags= filteredWordList.map(lambda x: (x, 1))\n",
    "wordCounts          = filteredWordListTags.reduceByKey(lambda k,v: k+v)\n",
    "wordCountsDict      = dict(wordCounts.collect())\n",
    "display(wordCountsDict)"
   ]
  },
  {
   "cell_type": "markdown",
   "metadata": {
    "application/vnd.databricks.v1+cell": {
     "cellMetadata": {},
     "inputWidgets": {},
     "nuid": "75f8aad3-5770-445e-9f9b-74cc3527f18f",
     "showTitle": false,
     "title": ""
    }
   },
   "source": [
    "##### Question 4: Calculate the top 15 and bottom 15 words using the file ‘shakespeare.txt’ and download it from Quercus. Show 15 words with the most count and 15 words with the least count. You can limit by 15 in ascending and descending order of count. Show your code and output."
   ]
  },
  {
   "cell_type": "code",
   "execution_count": 0,
   "metadata": {
    "application/vnd.databricks.v1+cell": {
     "cellMetadata": {
      "byteLimit": 2048000,
      "rowLimit": 10000
     },
     "inputWidgets": {},
     "nuid": "06eaca72-e6b3-4df0-a1a1-eeb01dec371a",
     "showTitle": false,
     "title": ""
    }
   },
   "outputs": [],
   "source": [
    "ssWordList          = shakespearRDD.flatMap(lambda line: line.split(\" \")).map(lambda word: word.strip(\",.!?;:\\\"\\'\"))\n",
    "normalizeWordList   = ssWordList.map(lambda word: word.lower())\n",
    "filteredWordList    = normalizeWordList.filter(lambda word: word != \"\")\n",
    "wordListTags        = filteredWordList.map(lambda x: (x, 1))\n",
    "wordCounts          = wordListTags.reduceByKey(lambda k,v: k+v)\n",
    "sortedByKeys        = wordCounts.sortBy(lambda x: x[0])\n",
    "sortedByValues      = sortedByKeys.sortBy(lambda x: x[1], ascending=False)\n",
    "\n",
    "# sortedByValues.collect()\n",
    "\n",
    "# Get the top 15 words by count\n",
    "top_15_words = sortedByValues.takeOrdered(15, key=lambda x: -x[1])\n",
    "\n",
    "# Get the bottom 15 words by count\n",
    "bottom_15_words = sortedByValues.takeOrdered(15, key=lambda x: x[1])"
   ]
  },
  {
   "cell_type": "code",
   "execution_count": 0,
   "metadata": {
    "application/vnd.databricks.v1+cell": {
     "cellMetadata": {
      "byteLimit": 2048000,
      "rowLimit": 10000
     },
     "inputWidgets": {},
     "nuid": "6162aa6b-6c72-4e14-a0fa-71c96253122b",
     "showTitle": false,
     "title": ""
    }
   },
   "outputs": [
    {
     "output_type": "stream",
     "name": "stdout",
     "output_type": "stream",
     "text": [
      "======== Top 15 words are ========\n{'the': 13691,\n 'and': 12935,\n 'of': 9366,\n 'i': 9091,\n 'to': 8987,\n 'a': 6655,\n 'you': 6049,\n 'my': 5691,\n 'in': 5253,\n 'that': 5230,\n 'is': 4250,\n 'not': 3895,\n 'for': 3841,\n 'with': 3798,\n 'his': 3576}"
     ]
    }
   ],
   "source": [
    "# Displaying top 15 words\n",
    "print(\"======== Top 15 words are ========\")\n",
    "display(dict(top_15_words))"
   ]
  },
  {
   "cell_type": "code",
   "execution_count": 0,
   "metadata": {
    "application/vnd.databricks.v1+cell": {
     "cellMetadata": {
      "byteLimit": 2048000,
      "rowLimit": 10000
     },
     "inputWidgets": {},
     "nuid": "b964fcf4-f884-4d3e-b1a8-d88fd68defaa",
     "showTitle": false,
     "title": ""
    }
   },
   "outputs": [
    {
     "output_type": "stream",
     "name": "stdout",
     "output_type": "stream",
     "text": [
      "======== Bottom 15 words ========\n{'#100]': 1,\n '(*)': 1,\n '(212-254-5093)': 1,\n '(3)': 1,\n '(72600.2026@compuserve.com)': 1,\n '(_)': 1,\n '(although': 1,\n '(by': 1,\n '(doctor-like)': 1,\n '(dressed': 1,\n '(first': 1,\n '(fore': 1,\n '(forsooth)': 1,\n '(from': 1,\n '(have': 1}"
     ]
    }
   ],
   "source": [
    "# Displaying bottom 15 words\n",
    "print(\"======== Bottom 15 words ========\")\n",
    "display(dict(bottom_15_words))"
   ]
  },
  {
   "cell_type": "markdown",
   "metadata": {
    "application/vnd.databricks.v1+cell": {
     "cellMetadata": {},
     "inputWidgets": {},
     "nuid": "fe5536ea-445e-4267-a895-7eb384d2dc80",
     "showTitle": false,
     "title": ""
    }
   },
   "source": [
    "#PART B"
   ]
  },
  {
   "cell_type": "code",
   "execution_count": 0,
   "metadata": {
    "application/vnd.databricks.v1+cell": {
     "cellMetadata": {
      "byteLimit": 2048000,
      "rowLimit": 10000
     },
     "inputWidgets": {},
     "nuid": "1b6f2cf1-a36a-4593-b668-293eeee4d30e",
     "showTitle": false,
     "title": ""
    }
   },
   "outputs": [],
   "source": [
    "from pyspark.ml.recommendation import ALS\n",
    "from pyspark.ml.evaluation import RegressionEvaluator\n",
    "from pyspark.ml.tuning import ParamGridBuilder, CrossValidator, TrainValidationSplit"
   ]
  },
  {
   "cell_type": "code",
   "execution_count": 0,
   "metadata": {
    "application/vnd.databricks.v1+cell": {
     "cellMetadata": {
      "byteLimit": 2048000,
      "rowLimit": 10000
     },
     "inputWidgets": {},
     "nuid": "96585bfc-2ce9-48b1-a650-9755dee8ca48",
     "showTitle": false,
     "title": ""
    }
   },
   "outputs": [
    {
     "output_type": "display_data",
     "data": {
      "text/html": [
       "<style scoped>\n",
       "  .table-result-container {\n",
       "    max-height: 300px;\n",
       "    overflow: auto;\n",
       "  }\n",
       "  table, th, td {\n",
       "    border: 1px solid black;\n",
       "    border-collapse: collapse;\n",
       "  }\n",
       "  th, td {\n",
       "    padding: 5px;\n",
       "  }\n",
       "  th {\n",
       "    text-align: left;\n",
       "  }\n",
       "</style><div class='table-result-container'><table class='table-result'><thead style='background-color: white'><tr><th>movieId</th><th>rating</th><th>userId</th></tr></thead><tbody><tr><td>2</td><td>3</td><td>0</td></tr><tr><td>3</td><td>1</td><td>0</td></tr><tr><td>5</td><td>2</td><td>0</td></tr><tr><td>9</td><td>4</td><td>0</td></tr><tr><td>11</td><td>1</td><td>0</td></tr><tr><td>12</td><td>2</td><td>0</td></tr><tr><td>15</td><td>1</td><td>0</td></tr><tr><td>17</td><td>1</td><td>0</td></tr><tr><td>19</td><td>1</td><td>0</td></tr><tr><td>21</td><td>1</td><td>0</td></tr><tr><td>23</td><td>1</td><td>0</td></tr><tr><td>26</td><td>3</td><td>0</td></tr><tr><td>27</td><td>1</td><td>0</td></tr><tr><td>28</td><td>1</td><td>0</td></tr><tr><td>29</td><td>1</td><td>0</td></tr><tr><td>30</td><td>1</td><td>0</td></tr><tr><td>31</td><td>1</td><td>0</td></tr><tr><td>34</td><td>1</td><td>0</td></tr><tr><td>37</td><td>1</td><td>0</td></tr><tr><td>41</td><td>2</td><td>0</td></tr><tr><td>44</td><td>1</td><td>0</td></tr><tr><td>45</td><td>2</td><td>0</td></tr><tr><td>46</td><td>1</td><td>0</td></tr><tr><td>47</td><td>1</td><td>0</td></tr><tr><td>48</td><td>1</td><td>0</td></tr><tr><td>50</td><td>1</td><td>0</td></tr><tr><td>51</td><td>1</td><td>0</td></tr><tr><td>54</td><td>1</td><td>0</td></tr><tr><td>55</td><td>1</td><td>0</td></tr><tr><td>59</td><td>2</td><td>0</td></tr><tr><td>61</td><td>2</td><td>0</td></tr><tr><td>64</td><td>1</td><td>0</td></tr><tr><td>67</td><td>1</td><td>0</td></tr><tr><td>68</td><td>1</td><td>0</td></tr><tr><td>69</td><td>1</td><td>0</td></tr><tr><td>71</td><td>1</td><td>0</td></tr><tr><td>72</td><td>1</td><td>0</td></tr><tr><td>77</td><td>2</td><td>0</td></tr><tr><td>79</td><td>1</td><td>0</td></tr><tr><td>83</td><td>1</td><td>0</td></tr><tr><td>87</td><td>1</td><td>0</td></tr><tr><td>89</td><td>2</td><td>0</td></tr><tr><td>91</td><td>3</td><td>0</td></tr><tr><td>92</td><td>4</td><td>0</td></tr><tr><td>94</td><td>1</td><td>0</td></tr><tr><td>95</td><td>2</td><td>0</td></tr><tr><td>96</td><td>1</td><td>0</td></tr><tr><td>98</td><td>1</td><td>0</td></tr><tr><td>99</td><td>1</td><td>0</td></tr><tr><td>2</td><td>2</td><td>1</td></tr><tr><td>3</td><td>1</td><td>1</td></tr><tr><td>4</td><td>2</td><td>1</td></tr><tr><td>6</td><td>1</td><td>1</td></tr><tr><td>9</td><td>3</td><td>1</td></tr><tr><td>12</td><td>1</td><td>1</td></tr><tr><td>13</td><td>1</td><td>1</td></tr><tr><td>14</td><td>1</td><td>1</td></tr><tr><td>16</td><td>1</td><td>1</td></tr><tr><td>19</td><td>1</td><td>1</td></tr><tr><td>21</td><td>3</td><td>1</td></tr><tr><td>27</td><td>1</td><td>1</td></tr><tr><td>28</td><td>3</td><td>1</td></tr><tr><td>33</td><td>1</td><td>1</td></tr><tr><td>36</td><td>2</td><td>1</td></tr><tr><td>37</td><td>1</td><td>1</td></tr><tr><td>40</td><td>1</td><td>1</td></tr><tr><td>41</td><td>2</td><td>1</td></tr><tr><td>43</td><td>1</td><td>1</td></tr><tr><td>44</td><td>1</td><td>1</td></tr><tr><td>47</td><td>1</td><td>1</td></tr><tr><td>50</td><td>1</td><td>1</td></tr><tr><td>54</td><td>1</td><td>1</td></tr><tr><td>56</td><td>2</td><td>1</td></tr><tr><td>57</td><td>1</td><td>1</td></tr><tr><td>58</td><td>1</td><td>1</td></tr><tr><td>60</td><td>1</td><td>1</td></tr><tr><td>62</td><td>4</td><td>1</td></tr><tr><td>63</td><td>1</td><td>1</td></tr><tr><td>67</td><td>1</td><td>1</td></tr><tr><td>68</td><td>4</td><td>1</td></tr><tr><td>70</td><td>2</td><td>1</td></tr><tr><td>72</td><td>1</td><td>1</td></tr><tr><td>73</td><td>1</td><td>1</td></tr><tr><td>74</td><td>2</td><td>1</td></tr><tr><td>76</td><td>1</td><td>1</td></tr><tr><td>77</td><td>3</td><td>1</td></tr><tr><td>78</td><td>1</td><td>1</td></tr><tr><td>81</td><td>1</td><td>1</td></tr><tr><td>82</td><td>1</td><td>1</td></tr><tr><td>85</td><td>3</td><td>1</td></tr><tr><td>86</td><td>2</td><td>1</td></tr><tr><td>88</td><td>2</td><td>1</td></tr><tr><td>91</td><td>1</td><td>1</td></tr><tr><td>92</td><td>2</td><td>1</td></tr><tr><td>93</td><td>1</td><td>1</td></tr><tr><td>94</td><td>2</td><td>1</td></tr><tr><td>96</td><td>1</td><td>1</td></tr><tr><td>97</td><td>1</td><td>1</td></tr><tr><td>4</td><td>3</td><td>2</td></tr><tr><td>6</td><td>1</td><td>2</td></tr><tr><td>8</td><td>5</td><td>2</td></tr><tr><td>9</td><td>1</td><td>2</td></tr><tr><td>10</td><td>1</td><td>2</td></tr><tr><td>12</td><td>3</td><td>2</td></tr><tr><td>13</td><td>1</td><td>2</td></tr><tr><td>15</td><td>2</td><td>2</td></tr><tr><td>18</td><td>2</td><td>2</td></tr><tr><td>19</td><td>4</td><td>2</td></tr><tr><td>22</td><td>1</td><td>2</td></tr><tr><td>26</td><td>1</td><td>2</td></tr><tr><td>28</td><td>1</td><td>2</td></tr><tr><td>34</td><td>4</td><td>2</td></tr><tr><td>35</td><td>1</td><td>2</td></tr><tr><td>37</td><td>5</td><td>2</td></tr><tr><td>38</td><td>1</td><td>2</td></tr><tr><td>39</td><td>5</td><td>2</td></tr><tr><td>40</td><td>4</td><td>2</td></tr><tr><td>47</td><td>1</td><td>2</td></tr><tr><td>50</td><td>1</td><td>2</td></tr><tr><td>52</td><td>2</td><td>2</td></tr><tr><td>54</td><td>1</td><td>2</td></tr><tr><td>55</td><td>1</td><td>2</td></tr><tr><td>57</td><td>2</td><td>2</td></tr><tr><td>58</td><td>2</td><td>2</td></tr><tr><td>59</td><td>1</td><td>2</td></tr><tr><td>61</td><td>1</td><td>2</td></tr><tr><td>62</td><td>1</td><td>2</td></tr><tr><td>64</td><td>1</td><td>2</td></tr><tr><td>65</td><td>1</td><td>2</td></tr><tr><td>66</td><td>3</td><td>2</td></tr><tr><td>68</td><td>1</td><td>2</td></tr><tr><td>71</td><td>3</td><td>2</td></tr><tr><td>76</td><td>1</td><td>2</td></tr><tr><td>77</td><td>1</td><td>2</td></tr><tr><td>78</td><td>1</td><td>2</td></tr><tr><td>80</td><td>1</td><td>2</td></tr><tr><td>83</td><td>5</td><td>2</td></tr><tr><td>85</td><td>1</td><td>2</td></tr><tr><td>87</td><td>2</td><td>2</td></tr><tr><td>88</td><td>1</td><td>2</td></tr><tr><td>89</td><td>4</td><td>2</td></tr><tr><td>90</td><td>1</td><td>2</td></tr><tr><td>92</td><td>4</td><td>2</td></tr><tr><td>93</td><td>5</td><td>2</td></tr><tr><td>0</td><td>1</td><td>3</td></tr><tr><td>1</td><td>1</td><td>3</td></tr><tr><td>2</td><td>1</td><td>3</td></tr><tr><td>7</td><td>3</td><td>3</td></tr><tr><td>8</td><td>3</td><td>3</td></tr><tr><td>9</td><td>1</td><td>3</td></tr><tr><td>14</td><td>1</td><td>3</td></tr><tr><td>15</td><td>1</td><td>3</td></tr><tr><td>16</td><td>1</td><td>3</td></tr><tr><td>18</td><td>4</td><td>3</td></tr><tr><td>19</td><td>1</td><td>3</td></tr><tr><td>24</td><td>3</td><td>3</td></tr><tr><td>26</td><td>1</td><td>3</td></tr><tr><td>29</td><td>3</td><td>3</td></tr><tr><td>33</td><td>1</td><td>3</td></tr><tr><td>34</td><td>3</td><td>3</td></tr><tr><td>35</td><td>1</td><td>3</td></tr><tr><td>36</td><td>3</td><td>3</td></tr><tr><td>37</td><td>1</td><td>3</td></tr><tr><td>38</td><td>2</td><td>3</td></tr><tr><td>43</td><td>1</td><td>3</td></tr><tr><td>44</td><td>1</td><td>3</td></tr><tr><td>46</td><td>1</td><td>3</td></tr><tr><td>47</td><td>1</td><td>3</td></tr><tr><td>51</td><td>5</td><td>3</td></tr><tr><td>52</td><td>3</td><td>3</td></tr><tr><td>56</td><td>1</td><td>3</td></tr><tr><td>58</td><td>1</td><td>3</td></tr><tr><td>60</td><td>3</td><td>3</td></tr><tr><td>62</td><td>1</td><td>3</td></tr><tr><td>65</td><td>2</td><td>3</td></tr><tr><td>66</td><td>1</td><td>3</td></tr><tr><td>67</td><td>1</td><td>3</td></tr><tr><td>68</td><td>2</td><td>3</td></tr><tr><td>70</td><td>1</td><td>3</td></tr><tr><td>72</td><td>2</td><td>3</td></tr><tr><td>76</td><td>3</td><td>3</td></tr><tr><td>79</td><td>3</td><td>3</td></tr><tr><td>80</td><td>4</td><td>3</td></tr><tr><td>81</td><td>1</td><td>3</td></tr><tr><td>83</td><td>1</td><td>3</td></tr><tr><td>84</td><td>1</td><td>3</td></tr><tr><td>86</td><td>1</td><td>3</td></tr><tr><td>87</td><td>2</td><td>3</td></tr><tr><td>88</td><td>4</td><td>3</td></tr><tr><td>89</td><td>1</td><td>3</td></tr><tr><td>91</td><td>1</td><td>3</td></tr><tr><td>94</td><td>3</td><td>3</td></tr><tr><td>1</td><td>1</td><td>4</td></tr><tr><td>6</td><td>1</td><td>4</td></tr><tr><td>8</td><td>1</td><td>4</td></tr><tr><td>9</td><td>1</td><td>4</td></tr><tr><td>10</td><td>1</td><td>4</td></tr><tr><td>11</td><td>1</td><td>4</td></tr><tr><td>12</td><td>1</td><td>4</td></tr><tr><td>13</td><td>1</td><td>4</td></tr><tr><td>14</td><td>2</td><td>4</td></tr><tr><td>15</td><td>1</td><td>4</td></tr><tr><td>17</td><td>1</td><td>4</td></tr><tr><td>20</td><td>1</td><td>4</td></tr><tr><td>22</td><td>1</td><td>4</td></tr><tr><td>23</td><td>1</td><td>4</td></tr><tr><td>24</td><td>1</td><td>4</td></tr><tr><td>29</td><td>4</td><td>4</td></tr><tr><td>30</td><td>1</td><td>4</td></tr><tr><td>31</td><td>1</td><td>4</td></tr><tr><td>34</td><td>1</td><td>4</td></tr><tr><td>35</td><td>1</td><td>4</td></tr><tr><td>36</td><td>1</td><td>4</td></tr><tr><td>39</td><td>2</td><td>4</td></tr><tr><td>40</td><td>3</td><td>4</td></tr><tr><td>41</td><td>4</td><td>4</td></tr><tr><td>43</td><td>2</td><td>4</td></tr><tr><td>44</td><td>1</td><td>4</td></tr><tr><td>45</td><td>1</td><td>4</td></tr><tr><td>46</td><td>1</td><td>4</td></tr><tr><td>47</td><td>1</td><td>4</td></tr><tr><td>49</td><td>2</td><td>4</td></tr><tr><td>50</td><td>1</td><td>4</td></tr><tr><td>51</td><td>1</td><td>4</td></tr><tr><td>52</td><td>4</td><td>4</td></tr><tr><td>54</td><td>1</td><td>4</td></tr><tr><td>55</td><td>1</td><td>4</td></tr><tr><td>60</td><td>3</td><td>4</td></tr><tr><td>61</td><td>1</td><td>4</td></tr><tr><td>62</td><td>4</td><td>4</td></tr><tr><td>63</td><td>3</td><td>4</td></tr><tr><td>65</td><td>1</td><td>4</td></tr><tr><td>67</td><td>2</td><td>4</td></tr><tr><td>69</td><td>1</td><td>4</td></tr><tr><td>70</td><td>4</td><td>4</td></tr><tr><td>71</td><td>1</td><td>4</td></tr><tr><td>73</td><td>1</td><td>4</td></tr><tr><td>78</td><td>1</td><td>4</td></tr><tr><td>84</td><td>1</td><td>4</td></tr><tr><td>85</td><td>1</td><td>4</td></tr><tr><td>87</td><td>3</td><td>4</td></tr><tr><td>88</td><td>3</td><td>4</td></tr><tr><td>89</td><td>2</td><td>4</td></tr><tr><td>96</td><td>1</td><td>4</td></tr><tr><td>97</td><td>1</td><td>4</td></tr><tr><td>98</td><td>1</td><td>4</td></tr><tr><td>99</td><td>1</td><td>4</td></tr><tr><td>0</td><td>1</td><td>5</td></tr><tr><td>1</td><td>1</td><td>5</td></tr><tr><td>4</td><td>1</td><td>5</td></tr><tr><td>5</td><td>1</td><td>5</td></tr><tr><td>8</td><td>1</td><td>5</td></tr><tr><td>9</td><td>3</td><td>5</td></tr><tr><td>10</td><td>2</td><td>5</td></tr><tr><td>13</td><td>3</td><td>5</td></tr><tr><td>15</td><td>1</td><td>5</td></tr><tr><td>19</td><td>1</td><td>5</td></tr><tr><td>20</td><td>3</td><td>5</td></tr><tr><td>21</td><td>2</td><td>5</td></tr><tr><td>23</td><td>3</td><td>5</td></tr><tr><td>27</td><td>1</td><td>5</td></tr><tr><td>28</td><td>1</td><td>5</td></tr><tr><td>29</td><td>1</td><td>5</td></tr><tr><td>31</td><td>1</td><td>5</td></tr><tr><td>36</td><td>3</td><td>5</td></tr><tr><td>38</td><td>2</td><td>5</td></tr><tr><td>39</td><td>1</td><td>5</td></tr><tr><td>42</td><td>1</td><td>5</td></tr><tr><td>48</td><td>3</td><td>5</td></tr><tr><td>49</td><td>4</td><td>5</td></tr><tr><td>50</td><td>3</td><td>5</td></tr><tr><td>51</td><td>1</td><td>5</td></tr><tr><td>52</td><td>1</td><td>5</td></tr><tr><td>54</td><td>1</td><td>5</td></tr><tr><td>55</td><td>5</td><td>5</td></tr><tr><td>56</td><td>3</td><td>5</td></tr><tr><td>58</td><td>1</td><td>5</td></tr><tr><td>60</td><td>1</td><td>5</td></tr><tr><td>61</td><td>1</td><td>5</td></tr><tr><td>64</td><td>3</td><td>5</td></tr><tr><td>65</td><td>2</td><td>5</td></tr><tr><td>68</td><td>4</td><td>5</td></tr><tr><td>70</td><td>1</td><td>5</td></tr><tr><td>71</td><td>1</td><td>5</td></tr><tr><td>72</td><td>1</td><td>5</td></tr><tr><td>74</td><td>1</td><td>5</td></tr><tr><td>79</td><td>1</td><td>5</td></tr><tr><td>81</td><td>2</td><td>5</td></tr><tr><td>84</td><td>1</td><td>5</td></tr><tr><td>85</td><td>1</td><td>5</td></tr><tr><td>86</td><td>1</td><td>5</td></tr><tr><td>88</td><td>1</td><td>5</td></tr><tr><td>90</td><td>4</td><td>5</td></tr><tr><td>91</td><td>2</td><td>5</td></tr><tr><td>95</td><td>2</td><td>5</td></tr><tr><td>99</td><td>1</td><td>5</td></tr><tr><td>0</td><td>1</td><td>6</td></tr><tr><td>1</td><td>1</td><td>6</td></tr><tr><td>2</td><td>3</td><td>6</td></tr><tr><td>5</td><td>1</td><td>6</td></tr><tr><td>6</td><td>1</td><td>6</td></tr><tr><td>9</td><td>1</td><td>6</td></tr><tr><td>10</td><td>1</td><td>6</td></tr><tr><td>15</td><td>2</td><td>6</td></tr><tr><td>16</td><td>2</td><td>6</td></tr><tr><td>17</td><td>1</td><td>6</td></tr><tr><td>18</td><td>1</td><td>6</td></tr><tr><td>20</td><td>1</td><td>6</td></tr><tr><td>21</td><td>1</td><td>6</td></tr><tr><td>22</td><td>1</td><td>6</td></tr><tr><td>24</td><td>1</td><td>6</td></tr><tr><td>25</td><td>5</td><td>6</td></tr><tr><td>26</td><td>1</td><td>6</td></tr><tr><td>28</td><td>1</td><td>6</td></tr><tr><td>30</td><td>1</td><td>6</td></tr><tr><td>33</td><td>1</td><td>6</td></tr><tr><td>38</td><td>1</td><td>6</td></tr><tr><td>39</td><td>1</td><td>6</td></tr><tr><td>43</td><td>4</td><td>6</td></tr><tr><td>44</td><td>1</td><td>6</td></tr><tr><td>45</td><td>1</td><td>6</td></tr><tr><td>48</td><td>1</td><td>6</td></tr><tr><td>49</td><td>1</td><td>6</td></tr><tr><td>50</td><td>1</td><td>6</td></tr><tr><td>53</td><td>1</td><td>6</td></tr><tr><td>54</td><td>1</td><td>6</td></tr><tr><td>55</td><td>1</td><td>6</td></tr><tr><td>56</td><td>1</td><td>6</td></tr><tr><td>58</td><td>4</td><td>6</td></tr><tr><td>59</td><td>1</td><td>6</td></tr><tr><td>60</td><td>1</td><td>6</td></tr><tr><td>61</td><td>3</td><td>6</td></tr><tr><td>63</td><td>3</td><td>6</td></tr><tr><td>66</td><td>1</td><td>6</td></tr><tr><td>67</td><td>3</td><td>6</td></tr><tr><td>68</td><td>1</td><td>6</td></tr><tr><td>69</td><td>1</td><td>6</td></tr><tr><td>71</td><td>2</td><td>6</td></tr><tr><td>73</td><td>1</td><td>6</td></tr><tr><td>75</td><td>1</td><td>6</td></tr><tr><td>77</td><td>1</td><td>6</td></tr><tr><td>79</td><td>1</td><td>6</td></tr><tr><td>81</td><td>1</td><td>6</td></tr><tr><td>84</td><td>1</td><td>6</td></tr><tr><td>85</td><td>3</td><td>6</td></tr><tr><td>86</td><td>1</td><td>6</td></tr><tr><td>87</td><td>1</td><td>6</td></tr><tr><td>88</td><td>1</td><td>6</td></tr><tr><td>89</td><td>1</td><td>6</td></tr><tr><td>91</td><td>2</td><td>6</td></tr><tr><td>94</td><td>1</td><td>6</td></tr><tr><td>95</td><td>2</td><td>6</td></tr><tr><td>96</td><td>1</td><td>6</td></tr><tr><td>1</td><td>1</td><td>7</td></tr><tr><td>2</td><td>2</td><td>7</td></tr><tr><td>3</td><td>1</td><td>7</td></tr><tr><td>4</td><td>1</td><td>7</td></tr><tr><td>7</td><td>1</td><td>7</td></tr><tr><td>10</td><td>1</td><td>7</td></tr><tr><td>11</td><td>2</td><td>7</td></tr><tr><td>14</td><td>2</td><td>7</td></tr><tr><td>15</td><td>1</td><td>7</td></tr><tr><td>16</td><td>1</td><td>7</td></tr><tr><td>18</td><td>1</td><td>7</td></tr><tr><td>21</td><td>1</td><td>7</td></tr><tr><td>22</td><td>1</td><td>7</td></tr><tr><td>23</td><td>1</td><td>7</td></tr><tr><td>25</td><td>5</td><td>7</td></tr><tr><td>26</td><td>1</td><td>7</td></tr><tr><td>29</td><td>4</td><td>7</td></tr><tr><td>30</td><td>1</td><td>7</td></tr><tr><td>31</td><td>3</td><td>7</td></tr><tr><td>32</td><td>1</td><td>7</td></tr><tr><td>33</td><td>1</td><td>7</td></tr><tr><td>35</td><td>1</td><td>7</td></tr><tr><td>37</td><td>2</td><td>7</td></tr><tr><td>39</td><td>3</td><td>7</td></tr><tr><td>40</td><td>2</td><td>7</td></tr><tr><td>42</td><td>2</td><td>7</td></tr><tr><td>44</td><td>1</td><td>7</td></tr><tr><td>45</td><td>2</td><td>7</td></tr><tr><td>47</td><td>4</td><td>7</td></tr><tr><td>48</td><td>1</td><td>7</td></tr><tr><td>49</td><td>1</td><td>7</td></tr><tr><td>53</td><td>1</td><td>7</td></tr><tr><td>54</td><td>1</td><td>7</td></tr><tr><td>55</td><td>1</td><td>7</td></tr><tr><td>56</td><td>1</td><td>7</td></tr><tr><td>59</td><td>1</td><td>7</td></tr><tr><td>61</td><td>2</td><td>7</td></tr><tr><td>62</td><td>3</td><td>7</td></tr><tr><td>63</td><td>2</td><td>7</td></tr><tr><td>66</td><td>1</td><td>7</td></tr><tr><td>67</td><td>3</td><td>7</td></tr><tr><td>74</td><td>1</td><td>7</td></tr><tr><td>75</td><td>1</td><td>7</td></tr><tr><td>76</td><td>3</td><td>7</td></tr><tr><td>77</td><td>1</td><td>7</td></tr><tr><td>81</td><td>1</td><td>7</td></tr><tr><td>82</td><td>1</td><td>7</td></tr><tr><td>84</td><td>2</td><td>7</td></tr><tr><td>85</td><td>4</td><td>7</td></tr><tr><td>86</td><td>1</td><td>7</td></tr><tr><td>92</td><td>2</td><td>7</td></tr><tr><td>96</td><td>1</td><td>7</td></tr><tr><td>97</td><td>1</td><td>7</td></tr><tr><td>98</td><td>1</td><td>7</td></tr><tr><td>0</td><td>1</td><td>8</td></tr><tr><td>2</td><td>4</td><td>8</td></tr><tr><td>3</td><td>2</td><td>8</td></tr><tr><td>4</td><td>2</td><td>8</td></tr><tr><td>5</td><td>1</td><td>8</td></tr><tr><td>7</td><td>1</td><td>8</td></tr><tr><td>9</td><td>1</td><td>8</td></tr><tr><td>11</td><td>1</td><td>8</td></tr><tr><td>15</td><td>1</td><td>8</td></tr><tr><td>18</td><td>1</td><td>8</td></tr><tr><td>19</td><td>1</td><td>8</td></tr><tr><td>21</td><td>1</td><td>8</td></tr><tr><td>29</td><td>5</td><td>8</td></tr><tr><td>31</td><td>3</td><td>8</td></tr><tr><td>33</td><td>1</td><td>8</td></tr><tr><td>35</td><td>1</td><td>8</td></tr><tr><td>36</td><td>1</td><td>8</td></tr><tr><td>40</td><td>2</td><td>8</td></tr><tr><td>44</td><td>1</td><td>8</td></tr><tr><td>45</td><td>1</td><td>8</td></tr><tr><td>50</td><td>1</td><td>8</td></tr><tr><td>51</td><td>1</td><td>8</td></tr><tr><td>52</td><td>5</td><td>8</td></tr><tr><td>53</td><td>5</td><td>8</td></tr><tr><td>54</td><td>1</td><td>8</td></tr><tr><td>55</td><td>1</td><td>8</td></tr><tr><td>56</td><td>1</td><td>8</td></tr><tr><td>58</td><td>4</td><td>8</td></tr><tr><td>60</td><td>3</td><td>8</td></tr><tr><td>62</td><td>4</td><td>8</td></tr><tr><td>64</td><td>1</td><td>8</td></tr><tr><td>67</td><td>3</td><td>8</td></tr><tr><td>69</td><td>1</td><td>8</td></tr><tr><td>71</td><td>1</td><td>8</td></tr><tr><td>72</td><td>3</td><td>8</td></tr><tr><td>77</td><td>3</td><td>8</td></tr><tr><td>78</td><td>1</td><td>8</td></tr><tr><td>79</td><td>1</td><td>8</td></tr><tr><td>83</td><td>1</td><td>8</td></tr><tr><td>85</td><td>5</td><td>8</td></tr><tr><td>86</td><td>1</td><td>8</td></tr><tr><td>88</td><td>1</td><td>8</td></tr><tr><td>90</td><td>1</td><td>8</td></tr><tr><td>92</td><td>2</td><td>8</td></tr><tr><td>95</td><td>4</td><td>8</td></tr><tr><td>96</td><td>3</td><td>8</td></tr><tr><td>97</td><td>1</td><td>8</td></tr><tr><td>98</td><td>1</td><td>8</td></tr><tr><td>99</td><td>1</td><td>8</td></tr><tr><td>2</td><td>3</td><td>9</td></tr><tr><td>3</td><td>1</td><td>9</td></tr><tr><td>4</td><td>1</td><td>9</td></tr><tr><td>5</td><td>1</td><td>9</td></tr><tr><td>6</td><td>1</td><td>9</td></tr><tr><td>7</td><td>5</td><td>9</td></tr><tr><td>9</td><td>1</td><td>9</td></tr><tr><td>12</td><td>1</td><td>9</td></tr><tr><td>14</td><td>3</td><td>9</td></tr><tr><td>15</td><td>1</td><td>9</td></tr><tr><td>19</td><td>1</td><td>9</td></tr><tr><td>21</td><td>1</td><td>9</td></tr><tr><td>22</td><td>1</td><td>9</td></tr><tr><td>24</td><td>1</td><td>9</td></tr><tr><td>25</td><td>1</td><td>9</td></tr><tr><td>26</td><td>1</td><td>9</td></tr><tr><td>30</td><td>3</td><td>9</td></tr><tr><td>32</td><td>4</td><td>9</td></tr><tr><td>35</td><td>2</td><td>9</td></tr><tr><td>36</td><td>2</td><td>9</td></tr><tr><td>37</td><td>2</td><td>9</td></tr><tr><td>38</td><td>1</td><td>9</td></tr><tr><td>39</td><td>1</td><td>9</td></tr><tr><td>43</td><td>3</td><td>9</td></tr><tr><td>49</td><td>5</td><td>9</td></tr><tr><td>50</td><td>3</td><td>9</td></tr><tr><td>53</td><td>1</td><td>9</td></tr><tr><td>54</td><td>1</td><td>9</td></tr><tr><td>58</td><td>1</td><td>9</td></tr><tr><td>59</td><td>1</td><td>9</td></tr><tr><td>60</td><td>1</td><td>9</td></tr><tr><td>61</td><td>1</td><td>9</td></tr><tr><td>63</td><td>3</td><td>9</td></tr><tr><td>64</td><td>3</td><td>9</td></tr><tr><td>68</td><td>1</td><td>9</td></tr><tr><td>69</td><td>1</td><td>9</td></tr><tr><td>70</td><td>3</td><td>9</td></tr><tr><td>71</td><td>1</td><td>9</td></tr><tr><td>73</td><td>2</td><td>9</td></tr><tr><td>75</td><td>1</td><td>9</td></tr><tr><td>77</td><td>2</td><td>9</td></tr><tr><td>81</td><td>2</td><td>9</td></tr><tr><td>82</td><td>1</td><td>9</td></tr><tr><td>83</td><td>1</td><td>9</td></tr><tr><td>84</td><td>1</td><td>9</td></tr><tr><td>86</td><td>1</td><td>9</td></tr><tr><td>87</td><td>4</td><td>9</td></tr><tr><td>88</td><td>1</td><td>9</td></tr><tr><td>90</td><td>3</td><td>9</td></tr><tr><td>94</td><td>2</td><td>9</td></tr><tr><td>95</td><td>3</td><td>9</td></tr><tr><td>97</td><td>2</td><td>9</td></tr><tr><td>98</td><td>1</td><td>9</td></tr><tr><td>0</td><td>3</td><td>10</td></tr><tr><td>2</td><td>4</td><td>10</td></tr><tr><td>4</td><td>3</td><td>10</td></tr><tr><td>7</td><td>1</td><td>10</td></tr><tr><td>8</td><td>1</td><td>10</td></tr><tr><td>10</td><td>1</td><td>10</td></tr><tr><td>13</td><td>2</td><td>10</td></tr><tr><td>14</td><td>1</td><td>10</td></tr><tr><td>16</td><td>2</td><td>10</td></tr><tr><td>17</td><td>1</td><td>10</td></tr><tr><td>18</td><td>1</td><td>10</td></tr><tr><td>21</td><td>1</td><td>10</td></tr><tr><td>22</td><td>1</td><td>10</td></tr><tr><td>24</td><td>1</td><td>10</td></tr><tr><td>25</td><td>3</td><td>10</td></tr><tr><td>28</td><td>1</td><td>10</td></tr><tr><td>35</td><td>1</td><td>10</td></tr><tr><td>36</td><td>1</td><td>10</td></tr><tr><td>37</td><td>1</td><td>10</td></tr><tr><td>38</td><td>1</td><td>10</td></tr><tr><td>39</td><td>1</td><td>10</td></tr><tr><td>40</td><td>4</td><td>10</td></tr><tr><td>41</td><td>2</td><td>10</td></tr><tr><td>42</td><td>3</td><td>10</td></tr><tr><td>43</td><td>1</td><td>10</td></tr><tr><td>49</td><td>3</td><td>10</td></tr><tr><td>50</td><td>1</td><td>10</td></tr><tr><td>51</td><td>1</td><td>10</td></tr><tr><td>52</td><td>1</td><td>10</td></tr><tr><td>55</td><td>2</td><td>10</td></tr><tr><td>56</td><td>1</td><td>10</td></tr><tr><td>58</td><td>1</td><td>10</td></tr><tr><td>63</td><td>1</td><td>10</td></tr><tr><td>66</td><td>1</td><td>10</td></tr><tr><td>67</td><td>2</td><td>10</td></tr><tr><td>68</td><td>1</td><td>10</td></tr><tr><td>75</td><td>1</td><td>10</td></tr><tr><td>77</td><td>1</td><td>10</td></tr><tr><td>79</td><td>1</td><td>10</td></tr><tr><td>86</td><td>1</td><td>10</td></tr><tr><td>89</td><td>3</td><td>10</td></tr><tr><td>90</td><td>1</td><td>10</td></tr><tr><td>97</td><td>1</td><td>10</td></tr><tr><td>98</td><td>1</td><td>10</td></tr><tr><td>0</td><td>1</td><td>11</td></tr><tr><td>6</td><td>2</td><td>11</td></tr><tr><td>9</td><td>1</td><td>11</td></tr><tr><td>10</td><td>1</td><td>11</td></tr><tr><td>11</td><td>1</td><td>11</td></tr><tr><td>12</td><td>1</td><td>11</td></tr><tr><td>13</td><td>4</td><td>11</td></tr><tr><td>16</td><td>1</td><td>11</td></tr><tr><td>18</td><td>5</td><td>11</td></tr><tr><td>19</td><td>4</td><td>11</td></tr><tr><td>20</td><td>1</td><td>11</td></tr><tr><td>21</td><td>1</td><td>11</td></tr><tr><td>22</td><td>1</td><td>11</td></tr><tr><td>23</td><td>5</td><td>11</td></tr><tr><td>25</td><td>1</td><td>11</td></tr><tr><td>27</td><td>5</td><td>11</td></tr><tr><td>30</td><td>5</td><td>11</td></tr><tr><td>32</td><td>5</td><td>11</td></tr><tr><td>35</td><td>3</td><td>11</td></tr><tr><td>36</td><td>2</td><td>11</td></tr><tr><td>37</td><td>2</td><td>11</td></tr><tr><td>38</td><td>4</td><td>11</td></tr><tr><td>39</td><td>1</td><td>11</td></tr><tr><td>40</td><td>1</td><td>11</td></tr><tr><td>41</td><td>1</td><td>11</td></tr><tr><td>43</td><td>2</td><td>11</td></tr><tr><td>45</td><td>1</td><td>11</td></tr><tr><td>47</td><td>1</td><td>11</td></tr><tr><td>48</td><td>5</td><td>11</td></tr><tr><td>50</td><td>4</td><td>11</td></tr><tr><td>51</td><td>3</td><td>11</td></tr><tr><td>59</td><td>1</td><td>11</td></tr><tr><td>61</td><td>1</td><td>11</td></tr><tr><td>62</td><td>1</td><td>11</td></tr><tr><td>64</td><td>1</td><td>11</td></tr><tr><td>66</td><td>4</td><td>11</td></tr><tr><td>67</td><td>1</td><td>11</td></tr><tr><td>69</td><td>5</td><td>11</td></tr><tr><td>70</td><td>1</td><td>11</td></tr><tr><td>71</td><td>3</td><td>11</td></tr><tr><td>72</td><td>3</td><td>11</td></tr><tr><td>75</td><td>3</td><td>11</td></tr><tr><td>76</td><td>1</td><td>11</td></tr><tr><td>77</td><td>1</td><td>11</td></tr><tr><td>78</td><td>1</td><td>11</td></tr><tr><td>79</td><td>5</td><td>11</td></tr><tr><td>80</td><td>3</td><td>11</td></tr><tr><td>81</td><td>4</td><td>11</td></tr><tr><td>82</td><td>1</td><td>11</td></tr><tr><td>86</td><td>1</td><td>11</td></tr><tr><td>88</td><td>1</td><td>11</td></tr><tr><td>89</td><td>1</td><td>11</td></tr><tr><td>90</td><td>4</td><td>11</td></tr><tr><td>94</td><td>2</td><td>11</td></tr><tr><td>97</td><td>3</td><td>11</td></tr><tr><td>99</td><td>1</td><td>11</td></tr><tr><td>2</td><td>1</td><td>12</td></tr><tr><td>4</td><td>1</td><td>12</td></tr><tr><td>6</td><td>1</td><td>12</td></tr><tr><td>7</td><td>3</td><td>12</td></tr><tr><td>8</td><td>1</td><td>12</td></tr><tr><td>14</td><td>1</td><td>12</td></tr><tr><td>15</td><td>2</td><td>12</td></tr><tr><td>16</td><td>4</td><td>12</td></tr><tr><td>17</td><td>5</td><td>12</td></tr><tr><td>18</td><td>2</td><td>12</td></tr><tr><td>21</td><td>1</td><td>12</td></tr><tr><td>22</td><td>2</td><td>12</td></tr><tr><td>23</td><td>3</td><td>12</td></tr><tr><td>24</td><td>1</td><td>12</td></tr><tr><td>25</td><td>1</td><td>12</td></tr><tr><td>27</td><td>5</td><td>12</td></tr><tr><td>30</td><td>2</td><td>12</td></tr><tr><td>31</td><td>4</td><td>12</td></tr><tr><td>35</td><td>5</td><td>12</td></tr><tr><td>38</td><td>1</td><td>12</td></tr><tr><td>41</td><td>1</td><td>12</td></tr><tr><td>44</td><td>2</td><td>12</td></tr><tr><td>45</td><td>1</td><td>12</td></tr><tr><td>50</td><td>4</td><td>12</td></tr><tr><td>51</td><td>1</td><td>12</td></tr><tr><td>52</td><td>1</td><td>12</td></tr><tr><td>53</td><td>1</td><td>12</td></tr><tr><td>54</td><td>1</td><td>12</td></tr><tr><td>56</td><td>2</td><td>12</td></tr><tr><td>57</td><td>1</td><td>12</td></tr><tr><td>60</td><td>1</td><td>12</td></tr><tr><td>63</td><td>1</td><td>12</td></tr><tr><td>64</td><td>5</td><td>12</td></tr><tr><td>66</td><td>3</td><td>12</td></tr><tr><td>67</td><td>1</td><td>12</td></tr><tr><td>70</td><td>1</td><td>12</td></tr><tr><td>72</td><td>1</td><td>12</td></tr><tr><td>74</td><td>1</td><td>12</td></tr><tr><td>75</td><td>1</td><td>12</td></tr><tr><td>77</td><td>1</td><td>12</td></tr><tr><td>78</td><td>1</td><td>12</td></tr><tr><td>79</td><td>3</td><td>12</td></tr><tr><td>82</td><td>2</td><td>12</td></tr><tr><td>83</td><td>1</td><td>12</td></tr><tr><td>84</td><td>1</td><td>12</td></tr><tr><td>85</td><td>1</td><td>12</td></tr><tr><td>86</td><td>1</td><td>12</td></tr><tr><td>87</td><td>1</td><td>12</td></tr><tr><td>88</td><td>1</td><td>12</td></tr><tr><td>91</td><td>3</td><td>12</td></tr><tr><td>92</td><td>1</td><td>12</td></tr><tr><td>94</td><td>4</td><td>12</td></tr><tr><td>95</td><td>2</td><td>12</td></tr><tr><td>96</td><td>1</td><td>12</td></tr><tr><td>98</td><td>2</td><td>12</td></tr><tr><td>0</td><td>1</td><td>13</td></tr><tr><td>3</td><td>1</td><td>13</td></tr><tr><td>4</td><td>2</td><td>13</td></tr><tr><td>5</td><td>1</td><td>13</td></tr><tr><td>6</td><td>1</td><td>13</td></tr><tr><td>12</td><td>1</td><td>13</td></tr><tr><td>14</td><td>2</td><td>13</td></tr><tr><td>15</td><td>1</td><td>13</td></tr><tr><td>17</td><td>1</td><td>13</td></tr><tr><td>18</td><td>3</td><td>13</td></tr><tr><td>20</td><td>1</td><td>13</td></tr><tr><td>21</td><td>1</td><td>13</td></tr><tr><td>22</td><td>1</td><td>13</td></tr><tr><td>26</td><td>1</td><td>13</td></tr><tr><td>27</td><td>1</td><td>13</td></tr><tr><td>29</td><td>3</td><td>13</td></tr><tr><td>31</td><td>1</td><td>13</td></tr><tr><td>33</td><td>1</td><td>13</td></tr><tr><td>40</td><td>2</td><td>13</td></tr><tr><td>43</td><td>2</td><td>13</td></tr><tr><td>44</td><td>1</td><td>13</td></tr><tr><td>45</td><td>1</td><td>13</td></tr><tr><td>49</td><td>1</td><td>13</td></tr><tr><td>51</td><td>1</td><td>13</td></tr><tr><td>52</td><td>2</td><td>13</td></tr><tr><td>53</td><td>3</td><td>13</td></tr><tr><td>54</td><td>1</td><td>13</td></tr><tr><td>62</td><td>1</td><td>13</td></tr><tr><td>63</td><td>2</td><td>13</td></tr><tr><td>64</td><td>1</td><td>13</td></tr><tr><td>68</td><td>1</td><td>13</td></tr><tr><td>71</td><td>1</td><td>13</td></tr><tr><td>72</td><td>3</td><td>13</td></tr><tr><td>73</td><td>1</td><td>13</td></tr><tr><td>74</td><td>3</td><td>13</td></tr><tr><td>77</td><td>2</td><td>13</td></tr><tr><td>78</td><td>1</td><td>13</td></tr><tr><td>79</td><td>2</td><td>13</td></tr><tr><td>83</td><td>3</td><td>13</td></tr><tr><td>85</td><td>1</td><td>13</td></tr><tr><td>86</td><td>1</td><td>13</td></tr><tr><td>87</td><td>2</td><td>13</td></tr><tr><td>88</td><td>2</td><td>13</td></tr><tr><td>90</td><td>1</td><td>13</td></tr><tr><td>93</td><td>4</td><td>13</td></tr><tr><td>94</td><td>1</td><td>13</td></tr><tr><td>98</td><td>1</td><td>13</td></tr><tr><td>99</td><td>1</td><td>13</td></tr><tr><td>1</td><td>1</td><td>14</td></tr><tr><td>3</td><td>3</td><td>14</td></tr><tr><td>4</td><td>1</td><td>14</td></tr><tr><td>5</td><td>1</td><td>14</td></tr><tr><td>6</td><td>1</td><td>14</td></tr><tr><td>7</td><td>1</td><td>14</td></tr><tr><td>9</td><td>1</td><td>14</td></tr><tr><td>10</td><td>1</td><td>14</td></tr><tr><td>11</td><td>1</td><td>14</td></tr><tr><td>12</td><td>1</td><td>14</td></tr><tr><td>13</td><td>1</td><td>14</td></tr><tr><td>14</td><td>3</td><td>14</td></tr><tr><td>15</td><td>1</td><td>14</td></tr><tr><td>16</td><td>1</td><td>14</td></tr><tr><td>17</td><td>1</td><td>14</td></tr><tr><td>20</td><td>1</td><td>14</td></tr><tr><td>21</td><td>1</td><td>14</td></tr><tr><td>24</td><td>1</td><td>14</td></tr><tr><td>25</td><td>2</td><td>14</td></tr><tr><td>27</td><td>1</td><td>14</td></tr><tr><td>28</td><td>1</td><td>14</td></tr><tr><td>29</td><td>5</td><td>14</td></tr><tr><td>31</td><td>3</td><td>14</td></tr><tr><td>34</td><td>1</td><td>14</td></tr><tr><td>36</td><td>1</td><td>14</td></tr><tr><td>37</td><td>2</td><td>14</td></tr><tr><td>39</td><td>2</td><td>14</td></tr><tr><td>40</td><td>1</td><td>14</td></tr><tr><td>44</td><td>1</td><td>14</td></tr><tr><td>45</td><td>1</td><td>14</td></tr><tr><td>47</td><td>3</td><td>14</td></tr><tr><td>48</td><td>1</td><td>14</td></tr><tr><td>49</td><td>1</td><td>14</td></tr><tr><td>51</td><td>1</td><td>14</td></tr><tr><td>52</td><td>5</td><td>14</td></tr><tr><td>53</td><td>3</td><td>14</td></tr><tr><td>54</td><td>1</td><td>14</td></tr><tr><td>55</td><td>1</td><td>14</td></tr><tr><td>56</td><td>1</td><td>14</td></tr><tr><td>62</td><td>4</td><td>14</td></tr><tr><td>63</td><td>5</td><td>14</td></tr><tr><td>67</td><td>3</td><td>14</td></tr><tr><td>68</td><td>1</td><td>14</td></tr><tr><td>69</td><td>3</td><td>14</td></tr><tr><td>71</td><td>1</td><td>14</td></tr><tr><td>72</td><td>4</td><td>14</td></tr><tr><td>73</td><td>1</td><td>14</td></tr><tr><td>76</td><td>5</td><td>14</td></tr><tr><td>79</td><td>1</td><td>14</td></tr><tr><td>82</td><td>1</td><td>14</td></tr><tr><td>83</td><td>1</td><td>14</td></tr><tr><td>88</td><td>1</td><td>14</td></tr><tr><td>93</td><td>3</td><td>14</td></tr><tr><td>94</td><td>1</td><td>14</td></tr><tr><td>95</td><td>2</td><td>14</td></tr><tr><td>96</td><td>4</td><td>14</td></tr><tr><td>98</td><td>1</td><td>14</td></tr><tr><td>0</td><td>1</td><td>15</td></tr><tr><td>1</td><td>4</td><td>15</td></tr><tr><td>2</td><td>1</td><td>15</td></tr><tr><td>5</td><td>2</td><td>15</td></tr><tr><td>6</td><td>1</td><td>15</td></tr><tr><td>7</td><td>1</td><td>15</td></tr><tr><td>13</td><td>1</td><td>15</td></tr><tr><td>14</td><td>1</td><td>15</td></tr><tr><td>15</td><td>1</td><td>15</td></tr><tr><td>17</td><td>2</td><td>15</td></tr><tr><td>19</td><td>2</td><td>15</td></tr><tr><td>22</td><td>2</td><td>15</td></tr><tr><td>23</td><td>2</td><td>15</td></tr><tr><td>25</td><td>1</td><td>15</td></tr><tr><td>26</td><td>3</td><td>15</td></tr><tr><td>27</td><td>1</td><td>15</td></tr><tr><td>28</td><td>2</td><td>15</td></tr><tr><td>29</td><td>1</td><td>15</td></tr><tr><td>32</td><td>1</td><td>15</td></tr><tr><td>33</td><td>2</td><td>15</td></tr><tr><td>34</td><td>1</td><td>15</td></tr><tr><td>35</td><td>2</td><td>15</td></tr><tr><td>36</td><td>1</td><td>15</td></tr><tr><td>37</td><td>1</td><td>15</td></tr><tr><td>39</td><td>1</td><td>15</td></tr><tr><td>42</td><td>1</td><td>15</td></tr><tr><td>46</td><td>5</td><td>15</td></tr><tr><td>48</td><td>2</td><td>15</td></tr><tr><td>50</td><td>2</td><td>15</td></tr><tr><td>51</td><td>1</td><td>15</td></tr><tr><td>52</td><td>1</td><td>15</td></tr><tr><td>58</td><td>1</td><td>15</td></tr><tr><td>62</td><td>1</td><td>15</td></tr><tr><td>64</td><td>3</td><td>15</td></tr><tr><td>65</td><td>2</td><td>15</td></tr><tr><td>72</td><td>1</td><td>15</td></tr><tr><td>73</td><td>1</td><td>15</td></tr><tr><td>74</td><td>1</td><td>15</td></tr><tr><td>79</td><td>1</td><td>15</td></tr><tr><td>80</td><td>1</td><td>15</td></tr><tr><td>81</td><td>1</td><td>15</td></tr><tr><td>82</td><td>2</td><td>15</td></tr><tr><td>85</td><td>1</td><td>15</td></tr><tr><td>87</td><td>1</td><td>15</td></tr><tr><td>91</td><td>2</td><td>15</td></tr><tr><td>96</td><td>1</td><td>15</td></tr><tr><td>97</td><td>1</td><td>15</td></tr><tr><td>98</td><td>3</td><td>15</td></tr><tr><td>2</td><td>1</td><td>16</td></tr><tr><td>5</td><td>3</td><td>16</td></tr><tr><td>6</td><td>2</td><td>16</td></tr><tr><td>7</td><td>1</td><td>16</td></tr><tr><td>9</td><td>1</td><td>16</td></tr><tr><td>12</td><td>1</td><td>16</td></tr><tr><td>14</td><td>1</td><td>16</td></tr><tr><td>15</td><td>1</td><td>16</td></tr><tr><td>19</td><td>1</td><td>16</td></tr><tr><td>21</td><td>2</td><td>16</td></tr><tr><td>29</td><td>4</td><td>16</td></tr><tr><td>30</td><td>2</td><td>16</td></tr><tr><td>32</td><td>1</td><td>16</td></tr><tr><td>34</td><td>1</td><td>16</td></tr><tr><td>36</td><td>1</td><td>16</td></tr><tr><td>38</td><td>1</td><td>16</td></tr><tr><td>46</td><td>1</td><td>16</td></tr><tr><td>47</td><td>3</td><td>16</td></tr><tr><td>48</td><td>1</td><td>16</td></tr><tr><td>49</td><td>1</td><td>16</td></tr><tr><td>50</td><td>1</td><td>16</td></tr><tr><td>51</td><td>5</td><td>16</td></tr><tr><td>54</td><td>5</td><td>16</td></tr><tr><td>55</td><td>1</td><td>16</td></tr><tr><td>56</td><td>2</td><td>16</td></tr><tr><td>57</td><td>1</td><td>16</td></tr><tr><td>60</td><td>1</td><td>16</td></tr><tr><td>63</td><td>2</td><td>16</td></tr><tr><td>65</td><td>1</td><td>16</td></tr><tr><td>67</td><td>1</td><td>16</td></tr><tr><td>72</td><td>1</td><td>16</td></tr><tr><td>74</td><td>1</td><td>16</td></tr><tr><td>80</td><td>1</td><td>16</td></tr><tr><td>81</td><td>1</td><td>16</td></tr><tr><td>82</td><td>1</td><td>16</td></tr><tr><td>85</td><td>5</td><td>16</td></tr><tr><td>86</td><td>1</td><td>16</td></tr><tr><td>90</td><td>5</td><td>16</td></tr><tr><td>91</td><td>1</td><td>16</td></tr><tr><td>93</td><td>1</td><td>16</td></tr><tr><td>94</td><td>3</td><td>16</td></tr><tr><td>95</td><td>2</td><td>16</td></tr><tr><td>96</td><td>3</td><td>16</td></tr><tr><td>98</td><td>3</td><td>16</td></tr><tr><td>99</td><td>1</td><td>16</td></tr><tr><td>2</td><td>1</td><td>17</td></tr><tr><td>3</td><td>1</td><td>17</td></tr><tr><td>6</td><td>1</td><td>17</td></tr><tr><td>10</td><td>4</td><td>17</td></tr><tr><td>11</td><td>1</td><td>17</td></tr><tr><td>13</td><td>2</td><td>17</td></tr><tr><td>17</td><td>5</td><td>17</td></tr><tr><td>19</td><td>1</td><td>17</td></tr><tr><td>20</td><td>5</td><td>17</td></tr><tr><td>22</td><td>4</td><td>17</td></tr><tr><td>28</td><td>1</td><td>17</td></tr><tr><td>29</td><td>1</td><td>17</td></tr><tr><td>33</td><td>1</td><td>17</td></tr><tr><td>34</td><td>1</td><td>17</td></tr><tr><td>35</td><td>2</td><td>17</td></tr><tr><td>37</td><td>1</td><td>17</td></tr><tr><td>38</td><td>1</td><td>17</td></tr><tr><td>45</td><td>1</td><td>17</td></tr><tr><td>46</td><td>5</td><td>17</td></tr><tr><td>47</td><td>1</td><td>17</td></tr><tr><td>49</td><td>3</td><td>17</td></tr><tr><td>51</td><td>1</td><td>17</td></tr><tr><td>55</td><td>5</td><td>17</td></tr><tr><td>56</td><td>3</td><td>17</td></tr><tr><td>57</td><td>1</td><td>17</td></tr><tr><td>58</td><td>1</td><td>17</td></tr><tr><td>59</td><td>1</td><td>17</td></tr><tr><td>60</td><td>1</td><td>17</td></tr><tr><td>63</td><td>1</td><td>17</td></tr><tr><td>66</td><td>1</td><td>17</td></tr><tr><td>68</td><td>4</td><td>17</td></tr><tr><td>69</td><td>1</td><td>17</td></tr><tr><td>70</td><td>1</td><td>17</td></tr><tr><td>72</td><td>1</td><td>17</td></tr><tr><td>73</td><td>3</td><td>17</td></tr><tr><td>78</td><td>1</td><td>17</td></tr><tr><td>79</td><td>1</td><td>17</td></tr><tr><td>82</td><td>2</td><td>17</td></tr><tr><td>84</td><td>1</td><td>17</td></tr><tr><td>90</td><td>5</td><td>17</td></tr><tr><td>91</td><td>3</td><td>17</td></tr><tr><td>92</td><td>1</td><td>17</td></tr><tr><td>93</td><td>1</td><td>17</td></tr><tr><td>94</td><td>4</td><td>17</td></tr><tr><td>95</td><td>2</td><td>17</td></tr><tr><td>97</td><td>1</td><td>17</td></tr><tr><td>1</td><td>1</td><td>18</td></tr><tr><td>4</td><td>3</td><td>18</td></tr><tr><td>5</td><td>2</td><td>18</td></tr><tr><td>6</td><td>1</td><td>18</td></tr><tr><td>7</td><td>1</td><td>18</td></tr><tr><td>10</td><td>1</td><td>18</td></tr><tr><td>11</td><td>4</td><td>18</td></tr><tr><td>12</td><td>2</td><td>18</td></tr><tr><td>13</td><td>1</td><td>18</td></tr><tr><td>15</td><td>1</td><td>18</td></tr><tr><td>18</td><td>1</td><td>18</td></tr><tr><td>20</td><td>1</td><td>18</td></tr><tr><td>21</td><td>2</td><td>18</td></tr><tr><td>22</td><td>1</td><td>18</td></tr><tr><td>23</td><td>2</td><td>18</td></tr><tr><td>25</td><td>1</td><td>18</td></tr><tr><td>26</td><td>1</td><td>18</td></tr><tr><td>27</td><td>1</td><td>18</td></tr><tr><td>28</td><td>5</td><td>18</td></tr><tr><td>29</td><td>1</td><td>18</td></tr><tr><td>31</td><td>1</td><td>18</td></tr><tr><td>32</td><td>1</td><td>18</td></tr><tr><td>36</td><td>1</td><td>18</td></tr><tr><td>38</td><td>5</td><td>18</td></tr><tr><td>39</td><td>5</td><td>18</td></tr><tr><td>40</td><td>1</td><td>18</td></tr><tr><td>42</td><td>1</td><td>18</td></tr><tr><td>43</td><td>1</td><td>18</td></tr><tr><td>44</td><td>4</td><td>18</td></tr><tr><td>46</td><td>1</td><td>18</td></tr><tr><td>47</td><td>1</td><td>18</td></tr><tr><td>48</td><td>1</td><td>18</td></tr><tr><td>51</td><td>2</td><td>18</td></tr><tr><td>55</td><td>1</td><td>18</td></tr><tr><td>56</td><td>1</td><td>18</td></tr><tr><td>57</td><td>1</td><td>18</td></tr><tr><td>62</td><td>1</td><td>18</td></tr><tr><td>63</td><td>1</td><td>18</td></tr><tr><td>66</td><td>3</td><td>18</td></tr><tr><td>67</td><td>1</td><td>18</td></tr><tr><td>70</td><td>1</td><td>18</td></tr><tr><td>75</td><td>1</td><td>18</td></tr><tr><td>76</td><td>3</td><td>18</td></tr><tr><td>77</td><td>1</td><td>18</td></tr><tr><td>80</td><td>3</td><td>18</td></tr><tr><td>81</td><td>3</td><td>18</td></tr><tr><td>82</td><td>1</td><td>18</td></tr><tr><td>83</td><td>5</td><td>18</td></tr><tr><td>84</td><td>1</td><td>18</td></tr><tr><td>97</td><td>1</td><td>18</td></tr><tr><td>98</td><td>1</td><td>18</td></tr><tr><td>99</td><td>2</td><td>18</td></tr><tr><td>0</td><td>1</td><td>19</td></tr><tr><td>1</td><td>1</td><td>19</td></tr><tr><td>2</td><td>1</td><td>19</td></tr><tr><td>4</td><td>1</td><td>19</td></tr><tr><td>6</td><td>2</td><td>19</td></tr><tr><td>11</td><td>1</td><td>19</td></tr><tr><td>12</td><td>1</td><td>19</td></tr><tr><td>14</td><td>1</td><td>19</td></tr><tr><td>23</td><td>1</td><td>19</td></tr><tr><td>26</td><td>1</td><td>19</td></tr><tr><td>31</td><td>1</td><td>19</td></tr><tr><td>32</td><td>4</td><td>19</td></tr><tr><td>33</td><td>1</td><td>19</td></tr><tr><td>34</td><td>1</td><td>19</td></tr><tr><td>37</td><td>1</td><td>19</td></tr><tr><td>38</td><td>1</td><td>19</td></tr><tr><td>41</td><td>1</td><td>19</td></tr><tr><td>43</td><td>1</td><td>19</td></tr><tr><td>45</td><td>1</td><td>19</td></tr><tr><td>48</td><td>1</td><td>19</td></tr><tr><td>49</td><td>1</td><td>19</td></tr><tr><td>50</td><td>2</td><td>19</td></tr><tr><td>53</td><td>2</td><td>19</td></tr><tr><td>54</td><td>3</td><td>19</td></tr><tr><td>55</td><td>1</td><td>19</td></tr><tr><td>56</td><td>2</td><td>19</td></tr><tr><td>58</td><td>1</td><td>19</td></tr><tr><td>61</td><td>1</td><td>19</td></tr><tr><td>62</td><td>1</td><td>19</td></tr><tr><td>63</td><td>1</td><td>19</td></tr><tr><td>64</td><td>1</td><td>19</td></tr><tr><td>65</td><td>1</td><td>19</td></tr><tr><td>69</td><td>2</td><td>19</td></tr><tr><td>72</td><td>1</td><td>19</td></tr><tr><td>74</td><td>3</td><td>19</td></tr><tr><td>76</td><td>1</td><td>19</td></tr><tr><td>78</td><td>1</td><td>19</td></tr><tr><td>79</td><td>1</td><td>19</td></tr><tr><td>81</td><td>1</td><td>19</td></tr><tr><td>82</td><td>1</td><td>19</td></tr><tr><td>84</td><td>1</td><td>19</td></tr><tr><td>86</td><td>1</td><td>19</td></tr><tr><td>87</td><td>2</td><td>19</td></tr><tr><td>90</td><td>4</td><td>19</td></tr><tr><td>93</td><td>1</td><td>19</td></tr><tr><td>94</td><td>4</td><td>19</td></tr><tr><td>95</td><td>2</td><td>19</td></tr><tr><td>96</td><td>1</td><td>19</td></tr><tr><td>98</td><td>4</td><td>19</td></tr><tr><td>0</td><td>1</td><td>20</td></tr><tr><td>1</td><td>1</td><td>20</td></tr><tr><td>2</td><td>2</td><td>20</td></tr><tr><td>4</td><td>2</td><td>20</td></tr><tr><td>6</td><td>1</td><td>20</td></tr><tr><td>8</td><td>1</td><td>20</td></tr><tr><td>12</td><td>1</td><td>20</td></tr><tr><td>21</td><td>2</td><td>20</td></tr><tr><td>22</td><td>5</td><td>20</td></tr><tr><td>24</td><td>2</td><td>20</td></tr><tr><td>25</td><td>1</td><td>20</td></tr><tr><td>26</td><td>1</td><td>20</td></tr><tr><td>29</td><td>2</td><td>20</td></tr><tr><td>30</td><td>2</td><td>20</td></tr><tr><td>32</td><td>2</td><td>20</td></tr><tr><td>39</td><td>1</td><td>20</td></tr><tr><td>40</td><td>1</td><td>20</td></tr><tr><td>41</td><td>2</td><td>20</td></tr><tr><td>45</td><td>2</td><td>20</td></tr><tr><td>48</td><td>1</td><td>20</td></tr><tr><td>50</td><td>1</td><td>20</td></tr><tr><td>51</td><td>3</td><td>20</td></tr><tr><td>53</td><td>3</td><td>20</td></tr><tr><td>55</td><td>1</td><td>20</td></tr><tr><td>57</td><td>2</td><td>20</td></tr><tr><td>60</td><td>1</td><td>20</td></tr><tr><td>61</td><td>1</td><td>20</td></tr><tr><td>64</td><td>1</td><td>20</td></tr><tr><td>66</td><td>1</td><td>20</td></tr><tr><td>70</td><td>2</td><td>20</td></tr><tr><td>72</td><td>1</td><td>20</td></tr><tr><td>73</td><td>2</td><td>20</td></tr><tr><td>75</td><td>4</td><td>20</td></tr><tr><td>76</td><td>1</td><td>20</td></tr><tr><td>77</td><td>4</td><td>20</td></tr><tr><td>78</td><td>1</td><td>20</td></tr><tr><td>79</td><td>1</td><td>20</td></tr><tr><td>84</td><td>2</td><td>20</td></tr><tr><td>85</td><td>2</td><td>20</td></tr><tr><td>88</td><td>3</td><td>20</td></tr><tr><td>89</td><td>1</td><td>20</td></tr><tr><td>90</td><td>3</td><td>20</td></tr><tr><td>91</td><td>1</td><td>20</td></tr><tr><td>92</td><td>2</td><td>20</td></tr><tr><td>93</td><td>1</td><td>20</td></tr><tr><td>94</td><td>4</td><td>20</td></tr><tr><td>97</td><td>1</td><td>20</td></tr><tr><td>0</td><td>1</td><td>21</td></tr><tr><td>2</td><td>4</td><td>21</td></tr><tr><td>3</td><td>1</td><td>21</td></tr><tr><td>7</td><td>2</td><td>21</td></tr><tr><td>11</td><td>1</td><td>21</td></tr><tr><td>12</td><td>1</td><td>21</td></tr><tr><td>13</td><td>1</td><td>21</td></tr><tr><td>14</td><td>3</td><td>21</td></tr><tr><td>17</td><td>1</td><td>21</td></tr><tr><td>19</td><td>1</td><td>21</td></tr><tr><td>20</td><td>1</td><td>21</td></tr><tr><td>21</td><td>1</td><td>21</td></tr><tr><td>22</td><td>1</td><td>21</td></tr><tr><td>23</td><td>1</td><td>21</td></tr><tr><td>24</td><td>1</td><td>21</td></tr><tr><td>27</td><td>1</td><td>21</td></tr><tr><td>29</td><td>5</td><td>21</td></tr><tr><td>30</td><td>2</td><td>21</td></tr><tr><td>38</td><td>1</td><td>21</td></tr><tr><td>40</td><td>2</td><td>21</td></tr><tr><td>43</td><td>3</td><td>21</td></tr><tr><td>44</td><td>1</td><td>21</td></tr><tr><td>45</td><td>1</td><td>21</td></tr><tr><td>46</td><td>1</td><td>21</td></tr><tr><td>48</td><td>1</td><td>21</td></tr><tr><td>51</td><td>1</td><td>21</td></tr><tr><td>53</td><td>5</td><td>21</td></tr><tr><td>54</td><td>1</td><td>21</td></tr><tr><td>55</td><td>1</td><td>21</td></tr><tr><td>56</td><td>1</td><td>21</td></tr><tr><td>58</td><td>3</td><td>21</td></tr><tr><td>59</td><td>3</td><td>21</td></tr><tr><td>64</td><td>1</td><td>21</td></tr><tr><td>66</td><td>1</td><td>21</td></tr><tr><td>68</td><td>1</td><td>21</td></tr><tr><td>71</td><td>1</td><td>21</td></tr><tr><td>73</td><td>1</td><td>21</td></tr><tr><td>74</td><td>4</td><td>21</td></tr><tr><td>80</td><td>1</td><td>21</td></tr><tr><td>81</td><td>1</td><td>21</td></tr><tr><td>83</td><td>1</td><td>21</td></tr><tr><td>84</td><td>1</td><td>21</td></tr><tr><td>85</td><td>3</td><td>21</td></tr><tr><td>87</td><td>4</td><td>21</td></tr><tr><td>89</td><td>2</td><td>21</td></tr><tr><td>92</td><td>2</td><td>21</td></tr><tr><td>96</td><td>3</td><td>21</td></tr><tr><td>99</td><td>1</td><td>21</td></tr><tr><td>0</td><td>1</td><td>22</td></tr><tr><td>3</td><td>2</td><td>22</td></tr><tr><td>5</td><td>2</td><td>22</td></tr><tr><td>6</td><td>2</td><td>22</td></tr><tr><td>9</td><td>1</td><td>22</td></tr><tr><td>10</td><td>1</td><td>22</td></tr><tr><td>11</td><td>1</td><td>22</td></tr><tr><td>13</td><td>1</td><td>22</td></tr><tr><td>14</td><td>1</td><td>22</td></tr><tr><td>16</td><td>1</td><td>22</td></tr><tr><td>18</td><td>3</td><td>22</td></tr><tr><td>19</td><td>1</td><td>22</td></tr><tr><td>22</td><td>5</td><td>22</td></tr><tr><td>25</td><td>1</td><td>22</td></tr><tr><td>26</td><td>1</td><td>22</td></tr><tr><td>29</td><td>3</td><td>22</td></tr><tr><td>30</td><td>5</td><td>22</td></tr><tr><td>32</td><td>4</td><td>22</td></tr><tr><td>33</td><td>1</td><td>22</td></tr><tr><td>35</td><td>1</td><td>22</td></tr><tr><td>36</td><td>3</td><td>22</td></tr><tr><td>37</td><td>1</td><td>22</td></tr><tr><td>40</td><td>1</td><td>22</td></tr><tr><td>41</td><td>3</td><td>22</td></tr><tr><td>44</td><td>1</td><td>22</td></tr><tr><td>45</td><td>2</td><td>22</td></tr><tr><td>48</td><td>1</td><td>22</td></tr><tr><td>51</td><td>5</td><td>22</td></tr><tr><td>55</td><td>1</td><td>22</td></tr><tr><td>56</td><td>2</td><td>22</td></tr><tr><td>60</td><td>3</td><td>22</td></tr><tr><td>61</td><td>1</td><td>22</td></tr><tr><td>62</td><td>4</td><td>22</td></tr><tr><td>63</td><td>1</td><td>22</td></tr><tr><td>65</td><td>1</td><td>22</td></tr><tr><td>66</td><td>1</td><td>22</td></tr><tr><td>68</td><td>4</td><td>22</td></tr><tr><td>69</td><td>4</td><td>22</td></tr><tr><td>70</td><td>3</td><td>22</td></tr><tr><td>71</td><td>1</td><td>22</td></tr><tr><td>74</td><td>5</td><td>22</td></tr><tr><td>75</td><td>5</td><td>22</td></tr><tr><td>78</td><td>1</td><td>22</td></tr><tr><td>80</td><td>3</td><td>22</td></tr><tr><td>81</td><td>1</td><td>22</td></tr><tr><td>82</td><td>1</td><td>22</td></tr><tr><td>84</td><td>1</td><td>22</td></tr><tr><td>86</td><td>1</td><td>22</td></tr><tr><td>87</td><td>3</td><td>22</td></tr><tr><td>88</td><td>5</td><td>22</td></tr><tr><td>90</td><td>2</td><td>22</td></tr><tr><td>92</td><td>3</td><td>22</td></tr><tr><td>95</td><td>2</td><td>22</td></tr><tr><td>96</td><td>2</td><td>22</td></tr><tr><td>98</td><td>4</td><td>22</td></tr><tr><td>99</td><td>1</td><td>22</td></tr><tr><td>0</td><td>1</td><td>23</td></tr><tr><td>2</td><td>1</td><td>23</td></tr><tr><td>4</td><td>1</td><td>23</td></tr><tr><td>6</td><td>2</td><td>23</td></tr><tr><td>10</td><td>4</td><td>23</td></tr><tr><td>12</td><td>1</td><td>23</td></tr><tr><td>13</td><td>4</td><td>23</td></tr><tr><td>14</td><td>1</td><td>23</td></tr><tr><td>15</td><td>1</td><td>23</td></tr><tr><td>18</td><td>4</td><td>23</td></tr><tr><td>22</td><td>2</td><td>23</td></tr><tr><td>23</td><td>4</td><td>23</td></tr><tr><td>24</td><td>1</td><td>23</td></tr><tr><td>25</td><td>1</td><td>23</td></tr><tr><td>26</td><td>1</td><td>23</td></tr><tr><td>27</td><td>5</td><td>23</td></tr><tr><td>28</td><td>1</td><td>23</td></tr><tr><td>29</td><td>1</td><td>23</td></tr><tr><td>30</td><td>4</td><td>23</td></tr><tr><td>32</td><td>5</td><td>23</td></tr><tr><td>33</td><td>2</td><td>23</td></tr><tr><td>36</td><td>3</td><td>23</td></tr><tr><td>37</td><td>1</td><td>23</td></tr><tr><td>38</td><td>1</td><td>23</td></tr><tr><td>39</td><td>1</td><td>23</td></tr><tr><td>43</td><td>1</td><td>23</td></tr><tr><td>48</td><td>5</td><td>23</td></tr><tr><td>49</td><td>5</td><td>23</td></tr><tr><td>50</td><td>4</td><td>23</td></tr><tr><td>53</td><td>1</td><td>23</td></tr><tr><td>55</td><td>5</td><td>23</td></tr><tr><td>57</td><td>1</td><td>23</td></tr><tr><td>59</td><td>1</td><td>23</td></tr><tr><td>60</td><td>1</td><td>23</td></tr><tr><td>61</td><td>1</td><td>23</td></tr><tr><td>64</td><td>4</td><td>23</td></tr><tr><td>65</td><td>5</td><td>23</td></tr><tr><td>66</td><td>2</td><td>23</td></tr><tr><td>67</td><td>1</td><td>23</td></tr><tr><td>68</td><td>3</td><td>23</td></tr><tr><td>69</td><td>1</td><td>23</td></tr><tr><td>72</td><td>1</td><td>23</td></tr><tr><td>73</td><td>3</td><td>23</td></tr><tr><td>77</td><td>1</td><td>23</td></tr><tr><td>82</td><td>2</td><td>23</td></tr><tr><td>83</td><td>1</td><td>23</td></tr><tr><td>84</td><td>1</td><td>23</td></tr><tr><td>85</td><td>1</td><td>23</td></tr><tr><td>87</td><td>3</td><td>23</td></tr><tr><td>88</td><td>1</td><td>23</td></tr><tr><td>95</td><td>2</td><td>23</td></tr><tr><td>97</td><td>1</td><td>23</td></tr><tr><td>4</td><td>1</td><td>24</td></tr><tr><td>6</td><td>3</td><td>24</td></tr><tr><td>7</td><td>1</td><td>24</td></tr><tr><td>10</td><td>2</td><td>24</td></tr><tr><td>12</td><td>1</td><td>24</td></tr><tr><td>15</td><td>1</td><td>24</td></tr><tr><td>19</td><td>1</td><td>24</td></tr><tr><td>24</td><td>1</td><td>24</td></tr><tr><td>27</td><td>3</td><td>24</td></tr><tr><td>30</td><td>5</td><td>24</td></tr><tr><td>31</td><td>1</td><td>24</td></tr><tr><td>32</td><td>3</td><td>24</td></tr><tr><td>33</td><td>1</td><td>24</td></tr><tr><td>37</td><td>1</td><td>24</td></tr><tr><td>39</td><td>1</td><td>24</td></tr><tr><td>40</td><td>1</td><td>24</td></tr><tr><td>42</td><td>1</td><td>24</td></tr><tr><td>43</td><td>3</td><td>24</td></tr><tr><td>45</td><td>2</td><td>24</td></tr><tr><td>46</td><td>1</td><td>24</td></tr><tr><td>47</td><td>1</td><td>24</td></tr><tr><td>48</td><td>1</td><td>24</td></tr><tr><td>49</td><td>1</td><td>24</td></tr><tr><td>50</td><td>1</td><td>24</td></tr><tr><td>52</td><td>5</td><td>24</td></tr><tr><td>57</td><td>1</td><td>24</td></tr><tr><td>59</td><td>4</td><td>24</td></tr><tr><td>63</td><td>4</td><td>24</td></tr><tr><td>65</td><td>1</td><td>24</td></tr><tr><td>66</td><td>1</td><td>24</td></tr><tr><td>67</td><td>1</td><td>24</td></tr><tr><td>68</td><td>3</td><td>24</td></tr><tr><td>69</td><td>5</td><td>24</td></tr><tr><td>71</td><td>1</td><td>24</td></tr><tr><td>72</td><td>4</td><td>24</td></tr><tr><td>77</td><td>4</td><td>24</td></tr><tr><td>78</td><td>1</td><td>24</td></tr><tr><td>80</td><td>1</td><td>24</td></tr><tr><td>82</td><td>1</td><td>24</td></tr><tr><td>84</td><td>1</td><td>24</td></tr><tr><td>86</td><td>1</td><td>24</td></tr><tr><td>87</td><td>1</td><td>24</td></tr><tr><td>88</td><td>2</td><td>24</td></tr><tr><td>89</td><td>1</td><td>24</td></tr><tr><td>90</td><td>5</td><td>24</td></tr><tr><td>91</td><td>1</td><td>24</td></tr><tr><td>92</td><td>1</td><td>24</td></tr><tr><td>94</td><td>2</td><td>24</td></tr><tr><td>95</td><td>1</td><td>24</td></tr><tr><td>96</td><td>5</td><td>24</td></tr><tr><td>98</td><td>1</td><td>24</td></tr><tr><td>99</td><td>1</td><td>24</td></tr><tr><td>1</td><td>3</td><td>25</td></tr><tr><td>2</td><td>1</td><td>25</td></tr><tr><td>7</td><td>1</td><td>25</td></tr><tr><td>9</td><td>1</td><td>25</td></tr><tr><td>12</td><td>3</td><td>25</td></tr><tr><td>16</td><td>3</td><td>25</td></tr><tr><td>17</td><td>1</td><td>25</td></tr><tr><td>18</td><td>1</td><td>25</td></tr><tr><td>20</td><td>1</td><td>25</td></tr><tr><td>22</td><td>1</td><td>25</td></tr><tr><td>23</td><td>1</td><td>25</td></tr><tr><td>26</td><td>2</td><td>25</td></tr><tr><td>29</td><td>1</td><td>25</td></tr><tr><td>30</td><td>1</td><td>25</td></tr><tr><td>31</td><td>2</td><td>25</td></tr><tr><td>33</td><td>4</td><td>25</td></tr><tr><td>34</td><td>3</td><td>25</td></tr><tr><td>35</td><td>2</td><td>25</td></tr><tr><td>36</td><td>1</td><td>25</td></tr><tr><td>37</td><td>1</td><td>25</td></tr><tr><td>40</td><td>1</td><td>25</td></tr><tr><td>41</td><td>1</td><td>25</td></tr><tr><td>43</td><td>1</td><td>25</td></tr><tr><td>47</td><td>4</td><td>25</td></tr><tr><td>50</td><td>1</td><td>25</td></tr><tr><td>51</td><td>1</td><td>25</td></tr><tr><td>53</td><td>1</td><td>25</td></tr><tr><td>56</td><td>1</td><td>25</td></tr><tr><td>58</td><td>2</td><td>25</td></tr><tr><td>64</td><td>2</td><td>25</td></tr><tr><td>67</td><td>2</td><td>25</td></tr><tr><td>68</td><td>1</td><td>25</td></tr><tr><td>70</td><td>1</td><td>25</td></tr><tr><td>71</td><td>4</td><td>25</td></tr><tr><td>73</td><td>1</td><td>25</td></tr><tr><td>74</td><td>1</td><td>25</td></tr><tr><td>76</td><td>1</td><td>25</td></tr><tr><td>79</td><td>1</td><td>25</td></tr><tr><td>82</td><td>1</td><td>25</td></tr><tr><td>84</td><td>2</td><td>25</td></tr><tr><td>85</td><td>1</td><td>25</td></tr><tr><td>91</td><td>3</td><td>25</td></tr><tr><td>92</td><td>1</td><td>25</td></tr><tr><td>94</td><td>1</td><td>25</td></tr><tr><td>95</td><td>1</td><td>25</td></tr><tr><td>97</td><td>2</td><td>25</td></tr><tr><td>0</td><td>1</td><td>26</td></tr><tr><td>1</td><td>1</td><td>26</td></tr><tr><td>2</td><td>1</td><td>26</td></tr><tr><td>3</td><td>1</td><td>26</td></tr><tr><td>4</td><td>4</td><td>26</td></tr><tr><td>5</td><td>2</td><td>26</td></tr><tr><td>6</td><td>3</td><td>26</td></tr><tr><td>7</td><td>5</td><td>26</td></tr><tr><td>13</td><td>3</td><td>26</td></tr><tr><td>14</td><td>1</td><td>26</td></tr><tr><td>16</td><td>1</td><td>26</td></tr><tr><td>18</td><td>3</td><td>26</td></tr><tr><td>20</td><td>1</td><td>26</td></tr><tr><td>21</td><td>3</td><td>26</td></tr><tr><td>22</td><td>5</td><td>26</td></tr><tr><td>23</td><td>5</td><td>26</td></tr><tr><td>24</td><td>5</td><td>26</td></tr><tr><td>27</td><td>1</td><td>26</td></tr><tr><td>31</td><td>1</td><td>26</td></tr><tr><td>35</td><td>1</td><td>26</td></tr><tr><td>36</td><td>4</td><td>26</td></tr><tr><td>40</td><td>1</td><td>26</td></tr><tr><td>44</td><td>1</td><td>26</td></tr><tr><td>45</td><td>2</td><td>26</td></tr><tr><td>47</td><td>1</td><td>26</td></tr><tr><td>48</td><td>1</td><td>26</td></tr><tr><td>49</td><td>3</td><td>26</td></tr><tr><td>50</td><td>2</td><td>26</td></tr><tr><td>52</td><td>1</td><td>26</td></tr><tr><td>54</td><td>4</td><td>26</td></tr><tr><td>55</td><td>1</td><td>26</td></tr><tr><td>57</td><td>3</td><td>26</td></tr><tr><td>58</td><td>1</td><td>26</td></tr><tr><td>61</td><td>1</td><td>26</td></tr><tr><td>62</td><td>2</td><td>26</td></tr><tr><td>66</td><td>1</td><td>26</td></tr><tr><td>68</td><td>4</td><td>26</td></tr><tr><td>71</td><td>1</td><td>26</td></tr><tr><td>73</td><td>4</td><td>26</td></tr><tr><td>76</td><td>1</td><td>26</td></tr><tr><td>81</td><td>3</td><td>26</td></tr><tr><td>85</td><td>1</td><td>26</td></tr><tr><td>86</td><td>3</td><td>26</td></tr><tr><td>88</td><td>5</td><td>26</td></tr><tr><td>91</td><td>1</td><td>26</td></tr><tr><td>94</td><td>5</td><td>26</td></tr><tr><td>95</td><td>1</td><td>26</td></tr><tr><td>96</td><td>1</td><td>26</td></tr><tr><td>97</td><td>1</td><td>26</td></tr><tr><td>0</td><td>1</td><td>27</td></tr><tr><td>9</td><td>1</td><td>27</td></tr><tr><td>10</td><td>1</td><td>27</td></tr><tr><td>18</td><td>4</td><td>27</td></tr><tr><td>19</td><td>3</td><td>27</td></tr><tr><td>20</td><td>1</td><td>27</td></tr><tr><td>22</td><td>2</td><td>27</td></tr><tr><td>24</td><td>2</td><td>27</td></tr><tr><td>25</td><td>1</td><td>27</td></tr><tr><td>27</td><td>3</td><td>27</td></tr><tr><td>28</td><td>1</td><td>27</td></tr><tr><td>29</td><td>1</td><td>27</td></tr><tr><td>31</td><td>1</td><td>27</td></tr><tr><td>33</td><td>3</td><td>27</td></tr><tr><td>40</td><td>1</td><td>27</td></tr><tr><td>42</td><td>1</td><td>27</td></tr><tr><td>43</td><td>1</td><td>27</td></tr><tr><td>44</td><td>3</td><td>27</td></tr><tr><td>45</td><td>1</td><td>27</td></tr><tr><td>51</td><td>3</td><td>27</td></tr><tr><td>52</td><td>1</td><td>27</td></tr><tr><td>55</td><td>3</td><td>27</td></tr><tr><td>57</td><td>1</td><td>27</td></tr><tr><td>59</td><td>1</td><td>27</td></tr><tr><td>60</td><td>1</td><td>27</td></tr><tr><td>61</td><td>1</td><td>27</td></tr><tr><td>64</td><td>1</td><td>27</td></tr><tr><td>66</td><td>3</td><td>27</td></tr><tr><td>68</td><td>1</td><td>27</td></tr><tr><td>70</td><td>1</td><td>27</td></tr><tr><td>71</td><td>2</td><td>27</td></tr><tr><td>72</td><td>1</td><td>27</td></tr><tr><td>75</td><td>3</td><td>27</td></tr><tr><td>78</td><td>1</td><td>27</td></tr><tr><td>80</td><td>3</td><td>27</td></tr><tr><td>82</td><td>1</td><td>27</td></tr><tr><td>83</td><td>3</td><td>27</td></tr><tr><td>86</td><td>1</td><td>27</td></tr><tr><td>87</td><td>2</td><td>27</td></tr><tr><td>90</td><td>1</td><td>27</td></tr><tr><td>91</td><td>1</td><td>27</td></tr><tr><td>92</td><td>1</td><td>27</td></tr><tr><td>93</td><td>1</td><td>27</td></tr><tr><td>94</td><td>2</td><td>27</td></tr><tr><td>95</td><td>1</td><td>27</td></tr><tr><td>98</td><td>1</td><td>27</td></tr><tr><td>0</td><td>3</td><td>28</td></tr><tr><td>1</td><td>1</td><td>28</td></tr><tr><td>2</td><td>4</td><td>28</td></tr><tr><td>3</td><td>1</td><td>28</td></tr><tr><td>6</td><td>1</td><td>28</td></tr><tr><td>7</td><td>1</td><td>28</td></tr><tr><td>12</td><td>5</td><td>28</td></tr><tr><td>13</td><td>2</td><td>28</td></tr><tr><td>14</td><td>1</td><td>28</td></tr><tr><td>15</td><td>1</td><td>28</td></tr><tr><td>17</td><td>1</td><td>28</td></tr><tr><td>19</td><td>3</td><td>28</td></tr><tr><td>20</td><td>1</td><td>28</td></tr><tr><td>23</td><td>3</td><td>28</td></tr><tr><td>24</td><td>3</td><td>28</td></tr><tr><td>27</td><td>1</td><td>28</td></tr><tr><td>29</td><td>1</td><td>28</td></tr><tr><td>33</td><td>1</td><td>28</td></tr><tr><td>34</td><td>1</td><td>28</td></tr><tr><td>36</td><td>1</td><td>28</td></tr><tr><td>38</td><td>2</td><td>28</td></tr><tr><td>39</td><td>2</td><td>28</td></tr><tr><td>44</td><td>1</td><td>28</td></tr><tr><td>45</td><td>1</td><td>28</td></tr><tr><td>49</td><td>4</td><td>28</td></tr><tr><td>50</td><td>1</td><td>28</td></tr><tr><td>52</td><td>1</td><td>28</td></tr><tr><td>54</td><td>1</td><td>28</td></tr><tr><td>56</td><td>1</td><td>28</td></tr><tr><td>57</td><td>3</td><td>28</td></tr><tr><td>58</td><td>1</td><td>28</td></tr><tr><td>59</td><td>1</td><td>28</td></tr><tr><td>60</td><td>1</td><td>28</td></tr><tr><td>62</td><td>3</td><td>28</td></tr><tr><td>63</td><td>1</td><td>28</td></tr><tr><td>65</td><td>1</td><td>28</td></tr><tr><td>75</td><td>1</td><td>28</td></tr><tr><td>78</td><td>1</td><td>28</td></tr><tr><td>81</td><td>5</td><td>28</td></tr><tr><td>82</td><td>4</td><td>28</td></tr><tr><td>83</td><td>1</td><td>28</td></tr><tr><td>85</td><td>1</td><td>28</td></tr><tr><td>88</td><td>2</td><td>28</td></tr><tr><td>89</td><td>4</td><td>28</td></tr><tr><td>90</td><td>1</td><td>28</td></tr><tr><td>92</td><td>5</td><td>28</td></tr><tr><td>94</td><td>1</td><td>28</td></tr><tr><td>95</td><td>2</td><td>28</td></tr><tr><td>98</td><td>1</td><td>28</td></tr><tr><td>99</td><td>1</td><td>28</td></tr><tr><td>3</td><td>1</td><td>29</td></tr><tr><td>4</td><td>1</td><td>29</td></tr><tr><td>5</td><td>1</td><td>29</td></tr><tr><td>7</td><td>2</td><td>29</td></tr><tr><td>9</td><td>1</td><td>29</td></tr><tr><td>10</td><td>3</td><td>29</td></tr><tr><td>11</td><td>1</td><td>29</td></tr><tr><td>13</td><td>3</td><td>29</td></tr><tr><td>14</td><td>1</td><td>29</td></tr><tr><td>15</td><td>1</td><td>29</td></tr><tr><td>17</td><td>3</td><td>29</td></tr><tr><td>19</td><td>3</td><td>29</td></tr><tr><td>22</td><td>3</td><td>29</td></tr><tr><td>23</td><td>4</td><td>29</td></tr><tr><td>25</td><td>1</td><td>29</td></tr><tr><td>29</td><td>1</td><td>29</td></tr><tr><td>31</td><td>1</td><td>29</td></tr><tr><td>32</td><td>4</td><td>29</td></tr><tr><td>33</td><td>2</td><td>29</td></tr><tr><td>36</td><td>2</td><td>29</td></tr><tr><td>38</td><td>3</td><td>29</td></tr><tr><td>39</td><td>1</td><td>29</td></tr><tr><td>42</td><td>1</td><td>29</td></tr><tr><td>46</td><td>5</td><td>29</td></tr><tr><td>49</td><td>3</td><td>29</td></tr><tr><td>51</td><td>2</td><td>29</td></tr><tr><td>59</td><td>1</td><td>29</td></tr><tr><td>61</td><td>1</td><td>29</td></tr><tr><td>62</td><td>1</td><td>29</td></tr><tr><td>67</td><td>1</td><td>29</td></tr><tr><td>68</td><td>3</td><td>29</td></tr><tr><td>69</td><td>1</td><td>29</td></tr><tr><td>70</td><td>1</td><td>29</td></tr><tr><td>74</td><td>1</td><td>29</td></tr><tr><td>75</td><td>1</td><td>29</td></tr><tr><td>79</td><td>2</td><td>29</td></tr><tr><td>80</td><td>1</td><td>29</td></tr><tr><td>81</td><td>2</td><td>29</td></tr><tr><td>83</td><td>1</td><td>29</td></tr><tr><td>85</td><td>1</td><td>29</td></tr><tr><td>86</td><td>1</td><td>29</td></tr><tr><td>90</td><td>4</td><td>29</td></tr><tr><td>93</td><td>1</td><td>29</td></tr><tr><td>94</td><td>4</td><td>29</td></tr><tr><td>97</td><td>1</td><td>29</td></tr><tr><td>99</td><td>1</td><td>29</td></tr></tbody></table></div>"
      ]
     },
     "metadata": {
      "application/vnd.databricks.v1+output": {
       "addedWidgets": {},
       "aggData": [],
       "aggError": "",
       "aggOverflow": false,
       "aggSchema": [],
       "aggSeriesLimitReached": false,
       "aggType": "",
       "arguments": {},
       "columnCustomDisplayInfos": {},
       "data": [
        [
         2,
         3,
         0
        ],
        [
         3,
         1,
         0
        ],
        [
         5,
         2,
         0
        ],
        [
         9,
         4,
         0
        ],
        [
         11,
         1,
         0
        ],
        [
         12,
         2,
         0
        ],
        [
         15,
         1,
         0
        ],
        [
         17,
         1,
         0
        ],
        [
         19,
         1,
         0
        ],
        [
         21,
         1,
         0
        ],
        [
         23,
         1,
         0
        ],
        [
         26,
         3,
         0
        ],
        [
         27,
         1,
         0
        ],
        [
         28,
         1,
         0
        ],
        [
         29,
         1,
         0
        ],
        [
         30,
         1,
         0
        ],
        [
         31,
         1,
         0
        ],
        [
         34,
         1,
         0
        ],
        [
         37,
         1,
         0
        ],
        [
         41,
         2,
         0
        ],
        [
         44,
         1,
         0
        ],
        [
         45,
         2,
         0
        ],
        [
         46,
         1,
         0
        ],
        [
         47,
         1,
         0
        ],
        [
         48,
         1,
         0
        ],
        [
         50,
         1,
         0
        ],
        [
         51,
         1,
         0
        ],
        [
         54,
         1,
         0
        ],
        [
         55,
         1,
         0
        ],
        [
         59,
         2,
         0
        ],
        [
         61,
         2,
         0
        ],
        [
         64,
         1,
         0
        ],
        [
         67,
         1,
         0
        ],
        [
         68,
         1,
         0
        ],
        [
         69,
         1,
         0
        ],
        [
         71,
         1,
         0
        ],
        [
         72,
         1,
         0
        ],
        [
         77,
         2,
         0
        ],
        [
         79,
         1,
         0
        ],
        [
         83,
         1,
         0
        ],
        [
         87,
         1,
         0
        ],
        [
         89,
         2,
         0
        ],
        [
         91,
         3,
         0
        ],
        [
         92,
         4,
         0
        ],
        [
         94,
         1,
         0
        ],
        [
         95,
         2,
         0
        ],
        [
         96,
         1,
         0
        ],
        [
         98,
         1,
         0
        ],
        [
         99,
         1,
         0
        ],
        [
         2,
         2,
         1
        ],
        [
         3,
         1,
         1
        ],
        [
         4,
         2,
         1
        ],
        [
         6,
         1,
         1
        ],
        [
         9,
         3,
         1
        ],
        [
         12,
         1,
         1
        ],
        [
         13,
         1,
         1
        ],
        [
         14,
         1,
         1
        ],
        [
         16,
         1,
         1
        ],
        [
         19,
         1,
         1
        ],
        [
         21,
         3,
         1
        ],
        [
         27,
         1,
         1
        ],
        [
         28,
         3,
         1
        ],
        [
         33,
         1,
         1
        ],
        [
         36,
         2,
         1
        ],
        [
         37,
         1,
         1
        ],
        [
         40,
         1,
         1
        ],
        [
         41,
         2,
         1
        ],
        [
         43,
         1,
         1
        ],
        [
         44,
         1,
         1
        ],
        [
         47,
         1,
         1
        ],
        [
         50,
         1,
         1
        ],
        [
         54,
         1,
         1
        ],
        [
         56,
         2,
         1
        ],
        [
         57,
         1,
         1
        ],
        [
         58,
         1,
         1
        ],
        [
         60,
         1,
         1
        ],
        [
         62,
         4,
         1
        ],
        [
         63,
         1,
         1
        ],
        [
         67,
         1,
         1
        ],
        [
         68,
         4,
         1
        ],
        [
         70,
         2,
         1
        ],
        [
         72,
         1,
         1
        ],
        [
         73,
         1,
         1
        ],
        [
         74,
         2,
         1
        ],
        [
         76,
         1,
         1
        ],
        [
         77,
         3,
         1
        ],
        [
         78,
         1,
         1
        ],
        [
         81,
         1,
         1
        ],
        [
         82,
         1,
         1
        ],
        [
         85,
         3,
         1
        ],
        [
         86,
         2,
         1
        ],
        [
         88,
         2,
         1
        ],
        [
         91,
         1,
         1
        ],
        [
         92,
         2,
         1
        ],
        [
         93,
         1,
         1
        ],
        [
         94,
         2,
         1
        ],
        [
         96,
         1,
         1
        ],
        [
         97,
         1,
         1
        ],
        [
         4,
         3,
         2
        ],
        [
         6,
         1,
         2
        ],
        [
         8,
         5,
         2
        ],
        [
         9,
         1,
         2
        ],
        [
         10,
         1,
         2
        ],
        [
         12,
         3,
         2
        ],
        [
         13,
         1,
         2
        ],
        [
         15,
         2,
         2
        ],
        [
         18,
         2,
         2
        ],
        [
         19,
         4,
         2
        ],
        [
         22,
         1,
         2
        ],
        [
         26,
         1,
         2
        ],
        [
         28,
         1,
         2
        ],
        [
         34,
         4,
         2
        ],
        [
         35,
         1,
         2
        ],
        [
         37,
         5,
         2
        ],
        [
         38,
         1,
         2
        ],
        [
         39,
         5,
         2
        ],
        [
         40,
         4,
         2
        ],
        [
         47,
         1,
         2
        ],
        [
         50,
         1,
         2
        ],
        [
         52,
         2,
         2
        ],
        [
         54,
         1,
         2
        ],
        [
         55,
         1,
         2
        ],
        [
         57,
         2,
         2
        ],
        [
         58,
         2,
         2
        ],
        [
         59,
         1,
         2
        ],
        [
         61,
         1,
         2
        ],
        [
         62,
         1,
         2
        ],
        [
         64,
         1,
         2
        ],
        [
         65,
         1,
         2
        ],
        [
         66,
         3,
         2
        ],
        [
         68,
         1,
         2
        ],
        [
         71,
         3,
         2
        ],
        [
         76,
         1,
         2
        ],
        [
         77,
         1,
         2
        ],
        [
         78,
         1,
         2
        ],
        [
         80,
         1,
         2
        ],
        [
         83,
         5,
         2
        ],
        [
         85,
         1,
         2
        ],
        [
         87,
         2,
         2
        ],
        [
         88,
         1,
         2
        ],
        [
         89,
         4,
         2
        ],
        [
         90,
         1,
         2
        ],
        [
         92,
         4,
         2
        ],
        [
         93,
         5,
         2
        ],
        [
         0,
         1,
         3
        ],
        [
         1,
         1,
         3
        ],
        [
         2,
         1,
         3
        ],
        [
         7,
         3,
         3
        ],
        [
         8,
         3,
         3
        ],
        [
         9,
         1,
         3
        ],
        [
         14,
         1,
         3
        ],
        [
         15,
         1,
         3
        ],
        [
         16,
         1,
         3
        ],
        [
         18,
         4,
         3
        ],
        [
         19,
         1,
         3
        ],
        [
         24,
         3,
         3
        ],
        [
         26,
         1,
         3
        ],
        [
         29,
         3,
         3
        ],
        [
         33,
         1,
         3
        ],
        [
         34,
         3,
         3
        ],
        [
         35,
         1,
         3
        ],
        [
         36,
         3,
         3
        ],
        [
         37,
         1,
         3
        ],
        [
         38,
         2,
         3
        ],
        [
         43,
         1,
         3
        ],
        [
         44,
         1,
         3
        ],
        [
         46,
         1,
         3
        ],
        [
         47,
         1,
         3
        ],
        [
         51,
         5,
         3
        ],
        [
         52,
         3,
         3
        ],
        [
         56,
         1,
         3
        ],
        [
         58,
         1,
         3
        ],
        [
         60,
         3,
         3
        ],
        [
         62,
         1,
         3
        ],
        [
         65,
         2,
         3
        ],
        [
         66,
         1,
         3
        ],
        [
         67,
         1,
         3
        ],
        [
         68,
         2,
         3
        ],
        [
         70,
         1,
         3
        ],
        [
         72,
         2,
         3
        ],
        [
         76,
         3,
         3
        ],
        [
         79,
         3,
         3
        ],
        [
         80,
         4,
         3
        ],
        [
         81,
         1,
         3
        ],
        [
         83,
         1,
         3
        ],
        [
         84,
         1,
         3
        ],
        [
         86,
         1,
         3
        ],
        [
         87,
         2,
         3
        ],
        [
         88,
         4,
         3
        ],
        [
         89,
         1,
         3
        ],
        [
         91,
         1,
         3
        ],
        [
         94,
         3,
         3
        ],
        [
         1,
         1,
         4
        ],
        [
         6,
         1,
         4
        ],
        [
         8,
         1,
         4
        ],
        [
         9,
         1,
         4
        ],
        [
         10,
         1,
         4
        ],
        [
         11,
         1,
         4
        ],
        [
         12,
         1,
         4
        ],
        [
         13,
         1,
         4
        ],
        [
         14,
         2,
         4
        ],
        [
         15,
         1,
         4
        ],
        [
         17,
         1,
         4
        ],
        [
         20,
         1,
         4
        ],
        [
         22,
         1,
         4
        ],
        [
         23,
         1,
         4
        ],
        [
         24,
         1,
         4
        ],
        [
         29,
         4,
         4
        ],
        [
         30,
         1,
         4
        ],
        [
         31,
         1,
         4
        ],
        [
         34,
         1,
         4
        ],
        [
         35,
         1,
         4
        ],
        [
         36,
         1,
         4
        ],
        [
         39,
         2,
         4
        ],
        [
         40,
         3,
         4
        ],
        [
         41,
         4,
         4
        ],
        [
         43,
         2,
         4
        ],
        [
         44,
         1,
         4
        ],
        [
         45,
         1,
         4
        ],
        [
         46,
         1,
         4
        ],
        [
         47,
         1,
         4
        ],
        [
         49,
         2,
         4
        ],
        [
         50,
         1,
         4
        ],
        [
         51,
         1,
         4
        ],
        [
         52,
         4,
         4
        ],
        [
         54,
         1,
         4
        ],
        [
         55,
         1,
         4
        ],
        [
         60,
         3,
         4
        ],
        [
         61,
         1,
         4
        ],
        [
         62,
         4,
         4
        ],
        [
         63,
         3,
         4
        ],
        [
         65,
         1,
         4
        ],
        [
         67,
         2,
         4
        ],
        [
         69,
         1,
         4
        ],
        [
         70,
         4,
         4
        ],
        [
         71,
         1,
         4
        ],
        [
         73,
         1,
         4
        ],
        [
         78,
         1,
         4
        ],
        [
         84,
         1,
         4
        ],
        [
         85,
         1,
         4
        ],
        [
         87,
         3,
         4
        ],
        [
         88,
         3,
         4
        ],
        [
         89,
         2,
         4
        ],
        [
         96,
         1,
         4
        ],
        [
         97,
         1,
         4
        ],
        [
         98,
         1,
         4
        ],
        [
         99,
         1,
         4
        ],
        [
         0,
         1,
         5
        ],
        [
         1,
         1,
         5
        ],
        [
         4,
         1,
         5
        ],
        [
         5,
         1,
         5
        ],
        [
         8,
         1,
         5
        ],
        [
         9,
         3,
         5
        ],
        [
         10,
         2,
         5
        ],
        [
         13,
         3,
         5
        ],
        [
         15,
         1,
         5
        ],
        [
         19,
         1,
         5
        ],
        [
         20,
         3,
         5
        ],
        [
         21,
         2,
         5
        ],
        [
         23,
         3,
         5
        ],
        [
         27,
         1,
         5
        ],
        [
         28,
         1,
         5
        ],
        [
         29,
         1,
         5
        ],
        [
         31,
         1,
         5
        ],
        [
         36,
         3,
         5
        ],
        [
         38,
         2,
         5
        ],
        [
         39,
         1,
         5
        ],
        [
         42,
         1,
         5
        ],
        [
         48,
         3,
         5
        ],
        [
         49,
         4,
         5
        ],
        [
         50,
         3,
         5
        ],
        [
         51,
         1,
         5
        ],
        [
         52,
         1,
         5
        ],
        [
         54,
         1,
         5
        ],
        [
         55,
         5,
         5
        ],
        [
         56,
         3,
         5
        ],
        [
         58,
         1,
         5
        ],
        [
         60,
         1,
         5
        ],
        [
         61,
         1,
         5
        ],
        [
         64,
         3,
         5
        ],
        [
         65,
         2,
         5
        ],
        [
         68,
         4,
         5
        ],
        [
         70,
         1,
         5
        ],
        [
         71,
         1,
         5
        ],
        [
         72,
         1,
         5
        ],
        [
         74,
         1,
         5
        ],
        [
         79,
         1,
         5
        ],
        [
         81,
         2,
         5
        ],
        [
         84,
         1,
         5
        ],
        [
         85,
         1,
         5
        ],
        [
         86,
         1,
         5
        ],
        [
         88,
         1,
         5
        ],
        [
         90,
         4,
         5
        ],
        [
         91,
         2,
         5
        ],
        [
         95,
         2,
         5
        ],
        [
         99,
         1,
         5
        ],
        [
         0,
         1,
         6
        ],
        [
         1,
         1,
         6
        ],
        [
         2,
         3,
         6
        ],
        [
         5,
         1,
         6
        ],
        [
         6,
         1,
         6
        ],
        [
         9,
         1,
         6
        ],
        [
         10,
         1,
         6
        ],
        [
         15,
         2,
         6
        ],
        [
         16,
         2,
         6
        ],
        [
         17,
         1,
         6
        ],
        [
         18,
         1,
         6
        ],
        [
         20,
         1,
         6
        ],
        [
         21,
         1,
         6
        ],
        [
         22,
         1,
         6
        ],
        [
         24,
         1,
         6
        ],
        [
         25,
         5,
         6
        ],
        [
         26,
         1,
         6
        ],
        [
         28,
         1,
         6
        ],
        [
         30,
         1,
         6
        ],
        [
         33,
         1,
         6
        ],
        [
         38,
         1,
         6
        ],
        [
         39,
         1,
         6
        ],
        [
         43,
         4,
         6
        ],
        [
         44,
         1,
         6
        ],
        [
         45,
         1,
         6
        ],
        [
         48,
         1,
         6
        ],
        [
         49,
         1,
         6
        ],
        [
         50,
         1,
         6
        ],
        [
         53,
         1,
         6
        ],
        [
         54,
         1,
         6
        ],
        [
         55,
         1,
         6
        ],
        [
         56,
         1,
         6
        ],
        [
         58,
         4,
         6
        ],
        [
         59,
         1,
         6
        ],
        [
         60,
         1,
         6
        ],
        [
         61,
         3,
         6
        ],
        [
         63,
         3,
         6
        ],
        [
         66,
         1,
         6
        ],
        [
         67,
         3,
         6
        ],
        [
         68,
         1,
         6
        ],
        [
         69,
         1,
         6
        ],
        [
         71,
         2,
         6
        ],
        [
         73,
         1,
         6
        ],
        [
         75,
         1,
         6
        ],
        [
         77,
         1,
         6
        ],
        [
         79,
         1,
         6
        ],
        [
         81,
         1,
         6
        ],
        [
         84,
         1,
         6
        ],
        [
         85,
         3,
         6
        ],
        [
         86,
         1,
         6
        ],
        [
         87,
         1,
         6
        ],
        [
         88,
         1,
         6
        ],
        [
         89,
         1,
         6
        ],
        [
         91,
         2,
         6
        ],
        [
         94,
         1,
         6
        ],
        [
         95,
         2,
         6
        ],
        [
         96,
         1,
         6
        ],
        [
         1,
         1,
         7
        ],
        [
         2,
         2,
         7
        ],
        [
         3,
         1,
         7
        ],
        [
         4,
         1,
         7
        ],
        [
         7,
         1,
         7
        ],
        [
         10,
         1,
         7
        ],
        [
         11,
         2,
         7
        ],
        [
         14,
         2,
         7
        ],
        [
         15,
         1,
         7
        ],
        [
         16,
         1,
         7
        ],
        [
         18,
         1,
         7
        ],
        [
         21,
         1,
         7
        ],
        [
         22,
         1,
         7
        ],
        [
         23,
         1,
         7
        ],
        [
         25,
         5,
         7
        ],
        [
         26,
         1,
         7
        ],
        [
         29,
         4,
         7
        ],
        [
         30,
         1,
         7
        ],
        [
         31,
         3,
         7
        ],
        [
         32,
         1,
         7
        ],
        [
         33,
         1,
         7
        ],
        [
         35,
         1,
         7
        ],
        [
         37,
         2,
         7
        ],
        [
         39,
         3,
         7
        ],
        [
         40,
         2,
         7
        ],
        [
         42,
         2,
         7
        ],
        [
         44,
         1,
         7
        ],
        [
         45,
         2,
         7
        ],
        [
         47,
         4,
         7
        ],
        [
         48,
         1,
         7
        ],
        [
         49,
         1,
         7
        ],
        [
         53,
         1,
         7
        ],
        [
         54,
         1,
         7
        ],
        [
         55,
         1,
         7
        ],
        [
         56,
         1,
         7
        ],
        [
         59,
         1,
         7
        ],
        [
         61,
         2,
         7
        ],
        [
         62,
         3,
         7
        ],
        [
         63,
         2,
         7
        ],
        [
         66,
         1,
         7
        ],
        [
         67,
         3,
         7
        ],
        [
         74,
         1,
         7
        ],
        [
         75,
         1,
         7
        ],
        [
         76,
         3,
         7
        ],
        [
         77,
         1,
         7
        ],
        [
         81,
         1,
         7
        ],
        [
         82,
         1,
         7
        ],
        [
         84,
         2,
         7
        ],
        [
         85,
         4,
         7
        ],
        [
         86,
         1,
         7
        ],
        [
         92,
         2,
         7
        ],
        [
         96,
         1,
         7
        ],
        [
         97,
         1,
         7
        ],
        [
         98,
         1,
         7
        ],
        [
         0,
         1,
         8
        ],
        [
         2,
         4,
         8
        ],
        [
         3,
         2,
         8
        ],
        [
         4,
         2,
         8
        ],
        [
         5,
         1,
         8
        ],
        [
         7,
         1,
         8
        ],
        [
         9,
         1,
         8
        ],
        [
         11,
         1,
         8
        ],
        [
         15,
         1,
         8
        ],
        [
         18,
         1,
         8
        ],
        [
         19,
         1,
         8
        ],
        [
         21,
         1,
         8
        ],
        [
         29,
         5,
         8
        ],
        [
         31,
         3,
         8
        ],
        [
         33,
         1,
         8
        ],
        [
         35,
         1,
         8
        ],
        [
         36,
         1,
         8
        ],
        [
         40,
         2,
         8
        ],
        [
         44,
         1,
         8
        ],
        [
         45,
         1,
         8
        ],
        [
         50,
         1,
         8
        ],
        [
         51,
         1,
         8
        ],
        [
         52,
         5,
         8
        ],
        [
         53,
         5,
         8
        ],
        [
         54,
         1,
         8
        ],
        [
         55,
         1,
         8
        ],
        [
         56,
         1,
         8
        ],
        [
         58,
         4,
         8
        ],
        [
         60,
         3,
         8
        ],
        [
         62,
         4,
         8
        ],
        [
         64,
         1,
         8
        ],
        [
         67,
         3,
         8
        ],
        [
         69,
         1,
         8
        ],
        [
         71,
         1,
         8
        ],
        [
         72,
         3,
         8
        ],
        [
         77,
         3,
         8
        ],
        [
         78,
         1,
         8
        ],
        [
         79,
         1,
         8
        ],
        [
         83,
         1,
         8
        ],
        [
         85,
         5,
         8
        ],
        [
         86,
         1,
         8
        ],
        [
         88,
         1,
         8
        ],
        [
         90,
         1,
         8
        ],
        [
         92,
         2,
         8
        ],
        [
         95,
         4,
         8
        ],
        [
         96,
         3,
         8
        ],
        [
         97,
         1,
         8
        ],
        [
         98,
         1,
         8
        ],
        [
         99,
         1,
         8
        ],
        [
         2,
         3,
         9
        ],
        [
         3,
         1,
         9
        ],
        [
         4,
         1,
         9
        ],
        [
         5,
         1,
         9
        ],
        [
         6,
         1,
         9
        ],
        [
         7,
         5,
         9
        ],
        [
         9,
         1,
         9
        ],
        [
         12,
         1,
         9
        ],
        [
         14,
         3,
         9
        ],
        [
         15,
         1,
         9
        ],
        [
         19,
         1,
         9
        ],
        [
         21,
         1,
         9
        ],
        [
         22,
         1,
         9
        ],
        [
         24,
         1,
         9
        ],
        [
         25,
         1,
         9
        ],
        [
         26,
         1,
         9
        ],
        [
         30,
         3,
         9
        ],
        [
         32,
         4,
         9
        ],
        [
         35,
         2,
         9
        ],
        [
         36,
         2,
         9
        ],
        [
         37,
         2,
         9
        ],
        [
         38,
         1,
         9
        ],
        [
         39,
         1,
         9
        ],
        [
         43,
         3,
         9
        ],
        [
         49,
         5,
         9
        ],
        [
         50,
         3,
         9
        ],
        [
         53,
         1,
         9
        ],
        [
         54,
         1,
         9
        ],
        [
         58,
         1,
         9
        ],
        [
         59,
         1,
         9
        ],
        [
         60,
         1,
         9
        ],
        [
         61,
         1,
         9
        ],
        [
         63,
         3,
         9
        ],
        [
         64,
         3,
         9
        ],
        [
         68,
         1,
         9
        ],
        [
         69,
         1,
         9
        ],
        [
         70,
         3,
         9
        ],
        [
         71,
         1,
         9
        ],
        [
         73,
         2,
         9
        ],
        [
         75,
         1,
         9
        ],
        [
         77,
         2,
         9
        ],
        [
         81,
         2,
         9
        ],
        [
         82,
         1,
         9
        ],
        [
         83,
         1,
         9
        ],
        [
         84,
         1,
         9
        ],
        [
         86,
         1,
         9
        ],
        [
         87,
         4,
         9
        ],
        [
         88,
         1,
         9
        ],
        [
         90,
         3,
         9
        ],
        [
         94,
         2,
         9
        ],
        [
         95,
         3,
         9
        ],
        [
         97,
         2,
         9
        ],
        [
         98,
         1,
         9
        ],
        [
         0,
         3,
         10
        ],
        [
         2,
         4,
         10
        ],
        [
         4,
         3,
         10
        ],
        [
         7,
         1,
         10
        ],
        [
         8,
         1,
         10
        ],
        [
         10,
         1,
         10
        ],
        [
         13,
         2,
         10
        ],
        [
         14,
         1,
         10
        ],
        [
         16,
         2,
         10
        ],
        [
         17,
         1,
         10
        ],
        [
         18,
         1,
         10
        ],
        [
         21,
         1,
         10
        ],
        [
         22,
         1,
         10
        ],
        [
         24,
         1,
         10
        ],
        [
         25,
         3,
         10
        ],
        [
         28,
         1,
         10
        ],
        [
         35,
         1,
         10
        ],
        [
         36,
         1,
         10
        ],
        [
         37,
         1,
         10
        ],
        [
         38,
         1,
         10
        ],
        [
         39,
         1,
         10
        ],
        [
         40,
         4,
         10
        ],
        [
         41,
         2,
         10
        ],
        [
         42,
         3,
         10
        ],
        [
         43,
         1,
         10
        ],
        [
         49,
         3,
         10
        ],
        [
         50,
         1,
         10
        ],
        [
         51,
         1,
         10
        ],
        [
         52,
         1,
         10
        ],
        [
         55,
         2,
         10
        ],
        [
         56,
         1,
         10
        ],
        [
         58,
         1,
         10
        ],
        [
         63,
         1,
         10
        ],
        [
         66,
         1,
         10
        ],
        [
         67,
         2,
         10
        ],
        [
         68,
         1,
         10
        ],
        [
         75,
         1,
         10
        ],
        [
         77,
         1,
         10
        ],
        [
         79,
         1,
         10
        ],
        [
         86,
         1,
         10
        ],
        [
         89,
         3,
         10
        ],
        [
         90,
         1,
         10
        ],
        [
         97,
         1,
         10
        ],
        [
         98,
         1,
         10
        ],
        [
         0,
         1,
         11
        ],
        [
         6,
         2,
         11
        ],
        [
         9,
         1,
         11
        ],
        [
         10,
         1,
         11
        ],
        [
         11,
         1,
         11
        ],
        [
         12,
         1,
         11
        ],
        [
         13,
         4,
         11
        ],
        [
         16,
         1,
         11
        ],
        [
         18,
         5,
         11
        ],
        [
         19,
         4,
         11
        ],
        [
         20,
         1,
         11
        ],
        [
         21,
         1,
         11
        ],
        [
         22,
         1,
         11
        ],
        [
         23,
         5,
         11
        ],
        [
         25,
         1,
         11
        ],
        [
         27,
         5,
         11
        ],
        [
         30,
         5,
         11
        ],
        [
         32,
         5,
         11
        ],
        [
         35,
         3,
         11
        ],
        [
         36,
         2,
         11
        ],
        [
         37,
         2,
         11
        ],
        [
         38,
         4,
         11
        ],
        [
         39,
         1,
         11
        ],
        [
         40,
         1,
         11
        ],
        [
         41,
         1,
         11
        ],
        [
         43,
         2,
         11
        ],
        [
         45,
         1,
         11
        ],
        [
         47,
         1,
         11
        ],
        [
         48,
         5,
         11
        ],
        [
         50,
         4,
         11
        ],
        [
         51,
         3,
         11
        ],
        [
         59,
         1,
         11
        ],
        [
         61,
         1,
         11
        ],
        [
         62,
         1,
         11
        ],
        [
         64,
         1,
         11
        ],
        [
         66,
         4,
         11
        ],
        [
         67,
         1,
         11
        ],
        [
         69,
         5,
         11
        ],
        [
         70,
         1,
         11
        ],
        [
         71,
         3,
         11
        ],
        [
         72,
         3,
         11
        ],
        [
         75,
         3,
         11
        ],
        [
         76,
         1,
         11
        ],
        [
         77,
         1,
         11
        ],
        [
         78,
         1,
         11
        ],
        [
         79,
         5,
         11
        ],
        [
         80,
         3,
         11
        ],
        [
         81,
         4,
         11
        ],
        [
         82,
         1,
         11
        ],
        [
         86,
         1,
         11
        ],
        [
         88,
         1,
         11
        ],
        [
         89,
         1,
         11
        ],
        [
         90,
         4,
         11
        ],
        [
         94,
         2,
         11
        ],
        [
         97,
         3,
         11
        ],
        [
         99,
         1,
         11
        ],
        [
         2,
         1,
         12
        ],
        [
         4,
         1,
         12
        ],
        [
         6,
         1,
         12
        ],
        [
         7,
         3,
         12
        ],
        [
         8,
         1,
         12
        ],
        [
         14,
         1,
         12
        ],
        [
         15,
         2,
         12
        ],
        [
         16,
         4,
         12
        ],
        [
         17,
         5,
         12
        ],
        [
         18,
         2,
         12
        ],
        [
         21,
         1,
         12
        ],
        [
         22,
         2,
         12
        ],
        [
         23,
         3,
         12
        ],
        [
         24,
         1,
         12
        ],
        [
         25,
         1,
         12
        ],
        [
         27,
         5,
         12
        ],
        [
         30,
         2,
         12
        ],
        [
         31,
         4,
         12
        ],
        [
         35,
         5,
         12
        ],
        [
         38,
         1,
         12
        ],
        [
         41,
         1,
         12
        ],
        [
         44,
         2,
         12
        ],
        [
         45,
         1,
         12
        ],
        [
         50,
         4,
         12
        ],
        [
         51,
         1,
         12
        ],
        [
         52,
         1,
         12
        ],
        [
         53,
         1,
         12
        ],
        [
         54,
         1,
         12
        ],
        [
         56,
         2,
         12
        ],
        [
         57,
         1,
         12
        ],
        [
         60,
         1,
         12
        ],
        [
         63,
         1,
         12
        ],
        [
         64,
         5,
         12
        ],
        [
         66,
         3,
         12
        ],
        [
         67,
         1,
         12
        ],
        [
         70,
         1,
         12
        ],
        [
         72,
         1,
         12
        ],
        [
         74,
         1,
         12
        ],
        [
         75,
         1,
         12
        ],
        [
         77,
         1,
         12
        ],
        [
         78,
         1,
         12
        ],
        [
         79,
         3,
         12
        ],
        [
         82,
         2,
         12
        ],
        [
         83,
         1,
         12
        ],
        [
         84,
         1,
         12
        ],
        [
         85,
         1,
         12
        ],
        [
         86,
         1,
         12
        ],
        [
         87,
         1,
         12
        ],
        [
         88,
         1,
         12
        ],
        [
         91,
         3,
         12
        ],
        [
         92,
         1,
         12
        ],
        [
         94,
         4,
         12
        ],
        [
         95,
         2,
         12
        ],
        [
         96,
         1,
         12
        ],
        [
         98,
         2,
         12
        ],
        [
         0,
         1,
         13
        ],
        [
         3,
         1,
         13
        ],
        [
         4,
         2,
         13
        ],
        [
         5,
         1,
         13
        ],
        [
         6,
         1,
         13
        ],
        [
         12,
         1,
         13
        ],
        [
         14,
         2,
         13
        ],
        [
         15,
         1,
         13
        ],
        [
         17,
         1,
         13
        ],
        [
         18,
         3,
         13
        ],
        [
         20,
         1,
         13
        ],
        [
         21,
         1,
         13
        ],
        [
         22,
         1,
         13
        ],
        [
         26,
         1,
         13
        ],
        [
         27,
         1,
         13
        ],
        [
         29,
         3,
         13
        ],
        [
         31,
         1,
         13
        ],
        [
         33,
         1,
         13
        ],
        [
         40,
         2,
         13
        ],
        [
         43,
         2,
         13
        ],
        [
         44,
         1,
         13
        ],
        [
         45,
         1,
         13
        ],
        [
         49,
         1,
         13
        ],
        [
         51,
         1,
         13
        ],
        [
         52,
         2,
         13
        ],
        [
         53,
         3,
         13
        ],
        [
         54,
         1,
         13
        ],
        [
         62,
         1,
         13
        ],
        [
         63,
         2,
         13
        ],
        [
         64,
         1,
         13
        ],
        [
         68,
         1,
         13
        ],
        [
         71,
         1,
         13
        ],
        [
         72,
         3,
         13
        ],
        [
         73,
         1,
         13
        ],
        [
         74,
         3,
         13
        ],
        [
         77,
         2,
         13
        ],
        [
         78,
         1,
         13
        ],
        [
         79,
         2,
         13
        ],
        [
         83,
         3,
         13
        ],
        [
         85,
         1,
         13
        ],
        [
         86,
         1,
         13
        ],
        [
         87,
         2,
         13
        ],
        [
         88,
         2,
         13
        ],
        [
         90,
         1,
         13
        ],
        [
         93,
         4,
         13
        ],
        [
         94,
         1,
         13
        ],
        [
         98,
         1,
         13
        ],
        [
         99,
         1,
         13
        ],
        [
         1,
         1,
         14
        ],
        [
         3,
         3,
         14
        ],
        [
         4,
         1,
         14
        ],
        [
         5,
         1,
         14
        ],
        [
         6,
         1,
         14
        ],
        [
         7,
         1,
         14
        ],
        [
         9,
         1,
         14
        ],
        [
         10,
         1,
         14
        ],
        [
         11,
         1,
         14
        ],
        [
         12,
         1,
         14
        ],
        [
         13,
         1,
         14
        ],
        [
         14,
         3,
         14
        ],
        [
         15,
         1,
         14
        ],
        [
         16,
         1,
         14
        ],
        [
         17,
         1,
         14
        ],
        [
         20,
         1,
         14
        ],
        [
         21,
         1,
         14
        ],
        [
         24,
         1,
         14
        ],
        [
         25,
         2,
         14
        ],
        [
         27,
         1,
         14
        ],
        [
         28,
         1,
         14
        ],
        [
         29,
         5,
         14
        ],
        [
         31,
         3,
         14
        ],
        [
         34,
         1,
         14
        ],
        [
         36,
         1,
         14
        ],
        [
         37,
         2,
         14
        ],
        [
         39,
         2,
         14
        ],
        [
         40,
         1,
         14
        ],
        [
         44,
         1,
         14
        ],
        [
         45,
         1,
         14
        ],
        [
         47,
         3,
         14
        ],
        [
         48,
         1,
         14
        ],
        [
         49,
         1,
         14
        ],
        [
         51,
         1,
         14
        ],
        [
         52,
         5,
         14
        ],
        [
         53,
         3,
         14
        ],
        [
         54,
         1,
         14
        ],
        [
         55,
         1,
         14
        ],
        [
         56,
         1,
         14
        ],
        [
         62,
         4,
         14
        ],
        [
         63,
         5,
         14
        ],
        [
         67,
         3,
         14
        ],
        [
         68,
         1,
         14
        ],
        [
         69,
         3,
         14
        ],
        [
         71,
         1,
         14
        ],
        [
         72,
         4,
         14
        ],
        [
         73,
         1,
         14
        ],
        [
         76,
         5,
         14
        ],
        [
         79,
         1,
         14
        ],
        [
         82,
         1,
         14
        ],
        [
         83,
         1,
         14
        ],
        [
         88,
         1,
         14
        ],
        [
         93,
         3,
         14
        ],
        [
         94,
         1,
         14
        ],
        [
         95,
         2,
         14
        ],
        [
         96,
         4,
         14
        ],
        [
         98,
         1,
         14
        ],
        [
         0,
         1,
         15
        ],
        [
         1,
         4,
         15
        ],
        [
         2,
         1,
         15
        ],
        [
         5,
         2,
         15
        ],
        [
         6,
         1,
         15
        ],
        [
         7,
         1,
         15
        ],
        [
         13,
         1,
         15
        ],
        [
         14,
         1,
         15
        ],
        [
         15,
         1,
         15
        ],
        [
         17,
         2,
         15
        ],
        [
         19,
         2,
         15
        ],
        [
         22,
         2,
         15
        ],
        [
         23,
         2,
         15
        ],
        [
         25,
         1,
         15
        ],
        [
         26,
         3,
         15
        ],
        [
         27,
         1,
         15
        ],
        [
         28,
         2,
         15
        ],
        [
         29,
         1,
         15
        ],
        [
         32,
         1,
         15
        ],
        [
         33,
         2,
         15
        ],
        [
         34,
         1,
         15
        ],
        [
         35,
         2,
         15
        ],
        [
         36,
         1,
         15
        ],
        [
         37,
         1,
         15
        ],
        [
         39,
         1,
         15
        ],
        [
         42,
         1,
         15
        ],
        [
         46,
         5,
         15
        ],
        [
         48,
         2,
         15
        ],
        [
         50,
         2,
         15
        ],
        [
         51,
         1,
         15
        ],
        [
         52,
         1,
         15
        ],
        [
         58,
         1,
         15
        ],
        [
         62,
         1,
         15
        ],
        [
         64,
         3,
         15
        ],
        [
         65,
         2,
         15
        ],
        [
         72,
         1,
         15
        ],
        [
         73,
         1,
         15
        ],
        [
         74,
         1,
         15
        ],
        [
         79,
         1,
         15
        ],
        [
         80,
         1,
         15
        ],
        [
         81,
         1,
         15
        ],
        [
         82,
         2,
         15
        ],
        [
         85,
         1,
         15
        ],
        [
         87,
         1,
         15
        ],
        [
         91,
         2,
         15
        ],
        [
         96,
         1,
         15
        ],
        [
         97,
         1,
         15
        ],
        [
         98,
         3,
         15
        ],
        [
         2,
         1,
         16
        ],
        [
         5,
         3,
         16
        ],
        [
         6,
         2,
         16
        ],
        [
         7,
         1,
         16
        ],
        [
         9,
         1,
         16
        ],
        [
         12,
         1,
         16
        ],
        [
         14,
         1,
         16
        ],
        [
         15,
         1,
         16
        ],
        [
         19,
         1,
         16
        ],
        [
         21,
         2,
         16
        ],
        [
         29,
         4,
         16
        ],
        [
         30,
         2,
         16
        ],
        [
         32,
         1,
         16
        ],
        [
         34,
         1,
         16
        ],
        [
         36,
         1,
         16
        ],
        [
         38,
         1,
         16
        ],
        [
         46,
         1,
         16
        ],
        [
         47,
         3,
         16
        ],
        [
         48,
         1,
         16
        ],
        [
         49,
         1,
         16
        ],
        [
         50,
         1,
         16
        ],
        [
         51,
         5,
         16
        ],
        [
         54,
         5,
         16
        ],
        [
         55,
         1,
         16
        ],
        [
         56,
         2,
         16
        ],
        [
         57,
         1,
         16
        ],
        [
         60,
         1,
         16
        ],
        [
         63,
         2,
         16
        ],
        [
         65,
         1,
         16
        ],
        [
         67,
         1,
         16
        ],
        [
         72,
         1,
         16
        ],
        [
         74,
         1,
         16
        ],
        [
         80,
         1,
         16
        ],
        [
         81,
         1,
         16
        ],
        [
         82,
         1,
         16
        ],
        [
         85,
         5,
         16
        ],
        [
         86,
         1,
         16
        ],
        [
         90,
         5,
         16
        ],
        [
         91,
         1,
         16
        ],
        [
         93,
         1,
         16
        ],
        [
         94,
         3,
         16
        ],
        [
         95,
         2,
         16
        ],
        [
         96,
         3,
         16
        ],
        [
         98,
         3,
         16
        ],
        [
         99,
         1,
         16
        ],
        [
         2,
         1,
         17
        ],
        [
         3,
         1,
         17
        ],
        [
         6,
         1,
         17
        ],
        [
         10,
         4,
         17
        ],
        [
         11,
         1,
         17
        ],
        [
         13,
         2,
         17
        ],
        [
         17,
         5,
         17
        ],
        [
         19,
         1,
         17
        ],
        [
         20,
         5,
         17
        ],
        [
         22,
         4,
         17
        ],
        [
         28,
         1,
         17
        ],
        [
         29,
         1,
         17
        ],
        [
         33,
         1,
         17
        ],
        [
         34,
         1,
         17
        ],
        [
         35,
         2,
         17
        ],
        [
         37,
         1,
         17
        ],
        [
         38,
         1,
         17
        ],
        [
         45,
         1,
         17
        ],
        [
         46,
         5,
         17
        ],
        [
         47,
         1,
         17
        ],
        [
         49,
         3,
         17
        ],
        [
         51,
         1,
         17
        ],
        [
         55,
         5,
         17
        ],
        [
         56,
         3,
         17
        ],
        [
         57,
         1,
         17
        ],
        [
         58,
         1,
         17
        ],
        [
         59,
         1,
         17
        ],
        [
         60,
         1,
         17
        ],
        [
         63,
         1,
         17
        ],
        [
         66,
         1,
         17
        ],
        [
         68,
         4,
         17
        ],
        [
         69,
         1,
         17
        ],
        [
         70,
         1,
         17
        ],
        [
         72,
         1,
         17
        ],
        [
         73,
         3,
         17
        ],
        [
         78,
         1,
         17
        ],
        [
         79,
         1,
         17
        ],
        [
         82,
         2,
         17
        ],
        [
         84,
         1,
         17
        ],
        [
         90,
         5,
         17
        ],
        [
         91,
         3,
         17
        ],
        [
         92,
         1,
         17
        ],
        [
         93,
         1,
         17
        ],
        [
         94,
         4,
         17
        ],
        [
         95,
         2,
         17
        ],
        [
         97,
         1,
         17
        ],
        [
         1,
         1,
         18
        ],
        [
         4,
         3,
         18
        ],
        [
         5,
         2,
         18
        ],
        [
         6,
         1,
         18
        ],
        [
         7,
         1,
         18
        ],
        [
         10,
         1,
         18
        ],
        [
         11,
         4,
         18
        ],
        [
         12,
         2,
         18
        ],
        [
         13,
         1,
         18
        ],
        [
         15,
         1,
         18
        ],
        [
         18,
         1,
         18
        ],
        [
         20,
         1,
         18
        ],
        [
         21,
         2,
         18
        ],
        [
         22,
         1,
         18
        ],
        [
         23,
         2,
         18
        ],
        [
         25,
         1,
         18
        ],
        [
         26,
         1,
         18
        ],
        [
         27,
         1,
         18
        ],
        [
         28,
         5,
         18
        ],
        [
         29,
         1,
         18
        ],
        [
         31,
         1,
         18
        ],
        [
         32,
         1,
         18
        ],
        [
         36,
         1,
         18
        ],
        [
         38,
         5,
         18
        ],
        [
         39,
         5,
         18
        ],
        [
         40,
         1,
         18
        ],
        [
         42,
         1,
         18
        ],
        [
         43,
         1,
         18
        ],
        [
         44,
         4,
         18
        ],
        [
         46,
         1,
         18
        ],
        [
         47,
         1,
         18
        ],
        [
         48,
         1,
         18
        ],
        [
         51,
         2,
         18
        ],
        [
         55,
         1,
         18
        ],
        [
         56,
         1,
         18
        ],
        [
         57,
         1,
         18
        ],
        [
         62,
         1,
         18
        ],
        [
         63,
         1,
         18
        ],
        [
         66,
         3,
         18
        ],
        [
         67,
         1,
         18
        ],
        [
         70,
         1,
         18
        ],
        [
         75,
         1,
         18
        ],
        [
         76,
         3,
         18
        ],
        [
         77,
         1,
         18
        ],
        [
         80,
         3,
         18
        ],
        [
         81,
         3,
         18
        ],
        [
         82,
         1,
         18
        ],
        [
         83,
         5,
         18
        ],
        [
         84,
         1,
         18
        ],
        [
         97,
         1,
         18
        ],
        [
         98,
         1,
         18
        ],
        [
         99,
         2,
         18
        ],
        [
         0,
         1,
         19
        ],
        [
         1,
         1,
         19
        ],
        [
         2,
         1,
         19
        ],
        [
         4,
         1,
         19
        ],
        [
         6,
         2,
         19
        ],
        [
         11,
         1,
         19
        ],
        [
         12,
         1,
         19
        ],
        [
         14,
         1,
         19
        ],
        [
         23,
         1,
         19
        ],
        [
         26,
         1,
         19
        ],
        [
         31,
         1,
         19
        ],
        [
         32,
         4,
         19
        ],
        [
         33,
         1,
         19
        ],
        [
         34,
         1,
         19
        ],
        [
         37,
         1,
         19
        ],
        [
         38,
         1,
         19
        ],
        [
         41,
         1,
         19
        ],
        [
         43,
         1,
         19
        ],
        [
         45,
         1,
         19
        ],
        [
         48,
         1,
         19
        ],
        [
         49,
         1,
         19
        ],
        [
         50,
         2,
         19
        ],
        [
         53,
         2,
         19
        ],
        [
         54,
         3,
         19
        ],
        [
         55,
         1,
         19
        ],
        [
         56,
         2,
         19
        ],
        [
         58,
         1,
         19
        ],
        [
         61,
         1,
         19
        ],
        [
         62,
         1,
         19
        ],
        [
         63,
         1,
         19
        ],
        [
         64,
         1,
         19
        ],
        [
         65,
         1,
         19
        ],
        [
         69,
         2,
         19
        ],
        [
         72,
         1,
         19
        ],
        [
         74,
         3,
         19
        ],
        [
         76,
         1,
         19
        ],
        [
         78,
         1,
         19
        ],
        [
         79,
         1,
         19
        ],
        [
         81,
         1,
         19
        ],
        [
         82,
         1,
         19
        ],
        [
         84,
         1,
         19
        ],
        [
         86,
         1,
         19
        ],
        [
         87,
         2,
         19
        ],
        [
         90,
         4,
         19
        ],
        [
         93,
         1,
         19
        ],
        [
         94,
         4,
         19
        ],
        [
         95,
         2,
         19
        ],
        [
         96,
         1,
         19
        ],
        [
         98,
         4,
         19
        ],
        [
         0,
         1,
         20
        ],
        [
         1,
         1,
         20
        ],
        [
         2,
         2,
         20
        ],
        [
         4,
         2,
         20
        ],
        [
         6,
         1,
         20
        ],
        [
         8,
         1,
         20
        ],
        [
         12,
         1,
         20
        ],
        [
         21,
         2,
         20
        ],
        [
         22,
         5,
         20
        ],
        [
         24,
         2,
         20
        ],
        [
         25,
         1,
         20
        ],
        [
         26,
         1,
         20
        ],
        [
         29,
         2,
         20
        ],
        [
         30,
         2,
         20
        ],
        [
         32,
         2,
         20
        ],
        [
         39,
         1,
         20
        ],
        [
         40,
         1,
         20
        ],
        [
         41,
         2,
         20
        ],
        [
         45,
         2,
         20
        ],
        [
         48,
         1,
         20
        ],
        [
         50,
         1,
         20
        ],
        [
         51,
         3,
         20
        ],
        [
         53,
         3,
         20
        ],
        [
         55,
         1,
         20
        ],
        [
         57,
         2,
         20
        ],
        [
         60,
         1,
         20
        ],
        [
         61,
         1,
         20
        ],
        [
         64,
         1,
         20
        ],
        [
         66,
         1,
         20
        ],
        [
         70,
         2,
         20
        ],
        [
         72,
         1,
         20
        ],
        [
         73,
         2,
         20
        ],
        [
         75,
         4,
         20
        ],
        [
         76,
         1,
         20
        ],
        [
         77,
         4,
         20
        ],
        [
         78,
         1,
         20
        ],
        [
         79,
         1,
         20
        ],
        [
         84,
         2,
         20
        ],
        [
         85,
         2,
         20
        ],
        [
         88,
         3,
         20
        ],
        [
         89,
         1,
         20
        ],
        [
         90,
         3,
         20
        ],
        [
         91,
         1,
         20
        ],
        [
         92,
         2,
         20
        ],
        [
         93,
         1,
         20
        ],
        [
         94,
         4,
         20
        ],
        [
         97,
         1,
         20
        ],
        [
         0,
         1,
         21
        ],
        [
         2,
         4,
         21
        ],
        [
         3,
         1,
         21
        ],
        [
         7,
         2,
         21
        ],
        [
         11,
         1,
         21
        ],
        [
         12,
         1,
         21
        ],
        [
         13,
         1,
         21
        ],
        [
         14,
         3,
         21
        ],
        [
         17,
         1,
         21
        ],
        [
         19,
         1,
         21
        ],
        [
         20,
         1,
         21
        ],
        [
         21,
         1,
         21
        ],
        [
         22,
         1,
         21
        ],
        [
         23,
         1,
         21
        ],
        [
         24,
         1,
         21
        ],
        [
         27,
         1,
         21
        ],
        [
         29,
         5,
         21
        ],
        [
         30,
         2,
         21
        ],
        [
         38,
         1,
         21
        ],
        [
         40,
         2,
         21
        ],
        [
         43,
         3,
         21
        ],
        [
         44,
         1,
         21
        ],
        [
         45,
         1,
         21
        ],
        [
         46,
         1,
         21
        ],
        [
         48,
         1,
         21
        ],
        [
         51,
         1,
         21
        ],
        [
         53,
         5,
         21
        ],
        [
         54,
         1,
         21
        ],
        [
         55,
         1,
         21
        ],
        [
         56,
         1,
         21
        ],
        [
         58,
         3,
         21
        ],
        [
         59,
         3,
         21
        ],
        [
         64,
         1,
         21
        ],
        [
         66,
         1,
         21
        ],
        [
         68,
         1,
         21
        ],
        [
         71,
         1,
         21
        ],
        [
         73,
         1,
         21
        ],
        [
         74,
         4,
         21
        ],
        [
         80,
         1,
         21
        ],
        [
         81,
         1,
         21
        ],
        [
         83,
         1,
         21
        ],
        [
         84,
         1,
         21
        ],
        [
         85,
         3,
         21
        ],
        [
         87,
         4,
         21
        ],
        [
         89,
         2,
         21
        ],
        [
         92,
         2,
         21
        ],
        [
         96,
         3,
         21
        ],
        [
         99,
         1,
         21
        ],
        [
         0,
         1,
         22
        ],
        [
         3,
         2,
         22
        ],
        [
         5,
         2,
         22
        ],
        [
         6,
         2,
         22
        ],
        [
         9,
         1,
         22
        ],
        [
         10,
         1,
         22
        ],
        [
         11,
         1,
         22
        ],
        [
         13,
         1,
         22
        ],
        [
         14,
         1,
         22
        ],
        [
         16,
         1,
         22
        ],
        [
         18,
         3,
         22
        ],
        [
         19,
         1,
         22
        ],
        [
         22,
         5,
         22
        ],
        [
         25,
         1,
         22
        ],
        [
         26,
         1,
         22
        ],
        [
         29,
         3,
         22
        ],
        [
         30,
         5,
         22
        ],
        [
         32,
         4,
         22
        ],
        [
         33,
         1,
         22
        ],
        [
         35,
         1,
         22
        ],
        [
         36,
         3,
         22
        ],
        [
         37,
         1,
         22
        ],
        [
         40,
         1,
         22
        ],
        [
         41,
         3,
         22
        ],
        [
         44,
         1,
         22
        ],
        [
         45,
         2,
         22
        ],
        [
         48,
         1,
         22
        ],
        [
         51,
         5,
         22
        ],
        [
         55,
         1,
         22
        ],
        [
         56,
         2,
         22
        ],
        [
         60,
         3,
         22
        ],
        [
         61,
         1,
         22
        ],
        [
         62,
         4,
         22
        ],
        [
         63,
         1,
         22
        ],
        [
         65,
         1,
         22
        ],
        [
         66,
         1,
         22
        ],
        [
         68,
         4,
         22
        ],
        [
         69,
         4,
         22
        ],
        [
         70,
         3,
         22
        ],
        [
         71,
         1,
         22
        ],
        [
         74,
         5,
         22
        ],
        [
         75,
         5,
         22
        ],
        [
         78,
         1,
         22
        ],
        [
         80,
         3,
         22
        ],
        [
         81,
         1,
         22
        ],
        [
         82,
         1,
         22
        ],
        [
         84,
         1,
         22
        ],
        [
         86,
         1,
         22
        ],
        [
         87,
         3,
         22
        ],
        [
         88,
         5,
         22
        ],
        [
         90,
         2,
         22
        ],
        [
         92,
         3,
         22
        ],
        [
         95,
         2,
         22
        ],
        [
         96,
         2,
         22
        ],
        [
         98,
         4,
         22
        ],
        [
         99,
         1,
         22
        ],
        [
         0,
         1,
         23
        ],
        [
         2,
         1,
         23
        ],
        [
         4,
         1,
         23
        ],
        [
         6,
         2,
         23
        ],
        [
         10,
         4,
         23
        ],
        [
         12,
         1,
         23
        ],
        [
         13,
         4,
         23
        ],
        [
         14,
         1,
         23
        ],
        [
         15,
         1,
         23
        ],
        [
         18,
         4,
         23
        ],
        [
         22,
         2,
         23
        ],
        [
         23,
         4,
         23
        ],
        [
         24,
         1,
         23
        ],
        [
         25,
         1,
         23
        ],
        [
         26,
         1,
         23
        ],
        [
         27,
         5,
         23
        ],
        [
         28,
         1,
         23
        ],
        [
         29,
         1,
         23
        ],
        [
         30,
         4,
         23
        ],
        [
         32,
         5,
         23
        ],
        [
         33,
         2,
         23
        ],
        [
         36,
         3,
         23
        ],
        [
         37,
         1,
         23
        ],
        [
         38,
         1,
         23
        ],
        [
         39,
         1,
         23
        ],
        [
         43,
         1,
         23
        ],
        [
         48,
         5,
         23
        ],
        [
         49,
         5,
         23
        ],
        [
         50,
         4,
         23
        ],
        [
         53,
         1,
         23
        ],
        [
         55,
         5,
         23
        ],
        [
         57,
         1,
         23
        ],
        [
         59,
         1,
         23
        ],
        [
         60,
         1,
         23
        ],
        [
         61,
         1,
         23
        ],
        [
         64,
         4,
         23
        ],
        [
         65,
         5,
         23
        ],
        [
         66,
         2,
         23
        ],
        [
         67,
         1,
         23
        ],
        [
         68,
         3,
         23
        ],
        [
         69,
         1,
         23
        ],
        [
         72,
         1,
         23
        ],
        [
         73,
         3,
         23
        ],
        [
         77,
         1,
         23
        ],
        [
         82,
         2,
         23
        ],
        [
         83,
         1,
         23
        ],
        [
         84,
         1,
         23
        ],
        [
         85,
         1,
         23
        ],
        [
         87,
         3,
         23
        ],
        [
         88,
         1,
         23
        ],
        [
         95,
         2,
         23
        ],
        [
         97,
         1,
         23
        ],
        [
         4,
         1,
         24
        ],
        [
         6,
         3,
         24
        ],
        [
         7,
         1,
         24
        ],
        [
         10,
         2,
         24
        ],
        [
         12,
         1,
         24
        ],
        [
         15,
         1,
         24
        ],
        [
         19,
         1,
         24
        ],
        [
         24,
         1,
         24
        ],
        [
         27,
         3,
         24
        ],
        [
         30,
         5,
         24
        ],
        [
         31,
         1,
         24
        ],
        [
         32,
         3,
         24
        ],
        [
         33,
         1,
         24
        ],
        [
         37,
         1,
         24
        ],
        [
         39,
         1,
         24
        ],
        [
         40,
         1,
         24
        ],
        [
         42,
         1,
         24
        ],
        [
         43,
         3,
         24
        ],
        [
         45,
         2,
         24
        ],
        [
         46,
         1,
         24
        ],
        [
         47,
         1,
         24
        ],
        [
         48,
         1,
         24
        ],
        [
         49,
         1,
         24
        ],
        [
         50,
         1,
         24
        ],
        [
         52,
         5,
         24
        ],
        [
         57,
         1,
         24
        ],
        [
         59,
         4,
         24
        ],
        [
         63,
         4,
         24
        ],
        [
         65,
         1,
         24
        ],
        [
         66,
         1,
         24
        ],
        [
         67,
         1,
         24
        ],
        [
         68,
         3,
         24
        ],
        [
         69,
         5,
         24
        ],
        [
         71,
         1,
         24
        ],
        [
         72,
         4,
         24
        ],
        [
         77,
         4,
         24
        ],
        [
         78,
         1,
         24
        ],
        [
         80,
         1,
         24
        ],
        [
         82,
         1,
         24
        ],
        [
         84,
         1,
         24
        ],
        [
         86,
         1,
         24
        ],
        [
         87,
         1,
         24
        ],
        [
         88,
         2,
         24
        ],
        [
         89,
         1,
         24
        ],
        [
         90,
         5,
         24
        ],
        [
         91,
         1,
         24
        ],
        [
         92,
         1,
         24
        ],
        [
         94,
         2,
         24
        ],
        [
         95,
         1,
         24
        ],
        [
         96,
         5,
         24
        ],
        [
         98,
         1,
         24
        ],
        [
         99,
         1,
         24
        ],
        [
         1,
         3,
         25
        ],
        [
         2,
         1,
         25
        ],
        [
         7,
         1,
         25
        ],
        [
         9,
         1,
         25
        ],
        [
         12,
         3,
         25
        ],
        [
         16,
         3,
         25
        ],
        [
         17,
         1,
         25
        ],
        [
         18,
         1,
         25
        ],
        [
         20,
         1,
         25
        ],
        [
         22,
         1,
         25
        ],
        [
         23,
         1,
         25
        ],
        [
         26,
         2,
         25
        ],
        [
         29,
         1,
         25
        ],
        [
         30,
         1,
         25
        ],
        [
         31,
         2,
         25
        ],
        [
         33,
         4,
         25
        ],
        [
         34,
         3,
         25
        ],
        [
         35,
         2,
         25
        ],
        [
         36,
         1,
         25
        ],
        [
         37,
         1,
         25
        ],
        [
         40,
         1,
         25
        ],
        [
         41,
         1,
         25
        ],
        [
         43,
         1,
         25
        ],
        [
         47,
         4,
         25
        ],
        [
         50,
         1,
         25
        ],
        [
         51,
         1,
         25
        ],
        [
         53,
         1,
         25
        ],
        [
         56,
         1,
         25
        ],
        [
         58,
         2,
         25
        ],
        [
         64,
         2,
         25
        ],
        [
         67,
         2,
         25
        ],
        [
         68,
         1,
         25
        ],
        [
         70,
         1,
         25
        ],
        [
         71,
         4,
         25
        ],
        [
         73,
         1,
         25
        ],
        [
         74,
         1,
         25
        ],
        [
         76,
         1,
         25
        ],
        [
         79,
         1,
         25
        ],
        [
         82,
         1,
         25
        ],
        [
         84,
         2,
         25
        ],
        [
         85,
         1,
         25
        ],
        [
         91,
         3,
         25
        ],
        [
         92,
         1,
         25
        ],
        [
         94,
         1,
         25
        ],
        [
         95,
         1,
         25
        ],
        [
         97,
         2,
         25
        ],
        [
         0,
         1,
         26
        ],
        [
         1,
         1,
         26
        ],
        [
         2,
         1,
         26
        ],
        [
         3,
         1,
         26
        ],
        [
         4,
         4,
         26
        ],
        [
         5,
         2,
         26
        ],
        [
         6,
         3,
         26
        ],
        [
         7,
         5,
         26
        ],
        [
         13,
         3,
         26
        ],
        [
         14,
         1,
         26
        ],
        [
         16,
         1,
         26
        ],
        [
         18,
         3,
         26
        ],
        [
         20,
         1,
         26
        ],
        [
         21,
         3,
         26
        ],
        [
         22,
         5,
         26
        ],
        [
         23,
         5,
         26
        ],
        [
         24,
         5,
         26
        ],
        [
         27,
         1,
         26
        ],
        [
         31,
         1,
         26
        ],
        [
         35,
         1,
         26
        ],
        [
         36,
         4,
         26
        ],
        [
         40,
         1,
         26
        ],
        [
         44,
         1,
         26
        ],
        [
         45,
         2,
         26
        ],
        [
         47,
         1,
         26
        ],
        [
         48,
         1,
         26
        ],
        [
         49,
         3,
         26
        ],
        [
         50,
         2,
         26
        ],
        [
         52,
         1,
         26
        ],
        [
         54,
         4,
         26
        ],
        [
         55,
         1,
         26
        ],
        [
         57,
         3,
         26
        ],
        [
         58,
         1,
         26
        ],
        [
         61,
         1,
         26
        ],
        [
         62,
         2,
         26
        ],
        [
         66,
         1,
         26
        ],
        [
         68,
         4,
         26
        ],
        [
         71,
         1,
         26
        ],
        [
         73,
         4,
         26
        ],
        [
         76,
         1,
         26
        ],
        [
         81,
         3,
         26
        ],
        [
         85,
         1,
         26
        ],
        [
         86,
         3,
         26
        ],
        [
         88,
         5,
         26
        ],
        [
         91,
         1,
         26
        ],
        [
         94,
         5,
         26
        ],
        [
         95,
         1,
         26
        ],
        [
         96,
         1,
         26
        ],
        [
         97,
         1,
         26
        ],
        [
         0,
         1,
         27
        ],
        [
         9,
         1,
         27
        ],
        [
         10,
         1,
         27
        ],
        [
         18,
         4,
         27
        ],
        [
         19,
         3,
         27
        ],
        [
         20,
         1,
         27
        ],
        [
         22,
         2,
         27
        ],
        [
         24,
         2,
         27
        ],
        [
         25,
         1,
         27
        ],
        [
         27,
         3,
         27
        ],
        [
         28,
         1,
         27
        ],
        [
         29,
         1,
         27
        ],
        [
         31,
         1,
         27
        ],
        [
         33,
         3,
         27
        ],
        [
         40,
         1,
         27
        ],
        [
         42,
         1,
         27
        ],
        [
         43,
         1,
         27
        ],
        [
         44,
         3,
         27
        ],
        [
         45,
         1,
         27
        ],
        [
         51,
         3,
         27
        ],
        [
         52,
         1,
         27
        ],
        [
         55,
         3,
         27
        ],
        [
         57,
         1,
         27
        ],
        [
         59,
         1,
         27
        ],
        [
         60,
         1,
         27
        ],
        [
         61,
         1,
         27
        ],
        [
         64,
         1,
         27
        ],
        [
         66,
         3,
         27
        ],
        [
         68,
         1,
         27
        ],
        [
         70,
         1,
         27
        ],
        [
         71,
         2,
         27
        ],
        [
         72,
         1,
         27
        ],
        [
         75,
         3,
         27
        ],
        [
         78,
         1,
         27
        ],
        [
         80,
         3,
         27
        ],
        [
         82,
         1,
         27
        ],
        [
         83,
         3,
         27
        ],
        [
         86,
         1,
         27
        ],
        [
         87,
         2,
         27
        ],
        [
         90,
         1,
         27
        ],
        [
         91,
         1,
         27
        ],
        [
         92,
         1,
         27
        ],
        [
         93,
         1,
         27
        ],
        [
         94,
         2,
         27
        ],
        [
         95,
         1,
         27
        ],
        [
         98,
         1,
         27
        ],
        [
         0,
         3,
         28
        ],
        [
         1,
         1,
         28
        ],
        [
         2,
         4,
         28
        ],
        [
         3,
         1,
         28
        ],
        [
         6,
         1,
         28
        ],
        [
         7,
         1,
         28
        ],
        [
         12,
         5,
         28
        ],
        [
         13,
         2,
         28
        ],
        [
         14,
         1,
         28
        ],
        [
         15,
         1,
         28
        ],
        [
         17,
         1,
         28
        ],
        [
         19,
         3,
         28
        ],
        [
         20,
         1,
         28
        ],
        [
         23,
         3,
         28
        ],
        [
         24,
         3,
         28
        ],
        [
         27,
         1,
         28
        ],
        [
         29,
         1,
         28
        ],
        [
         33,
         1,
         28
        ],
        [
         34,
         1,
         28
        ],
        [
         36,
         1,
         28
        ],
        [
         38,
         2,
         28
        ],
        [
         39,
         2,
         28
        ],
        [
         44,
         1,
         28
        ],
        [
         45,
         1,
         28
        ],
        [
         49,
         4,
         28
        ],
        [
         50,
         1,
         28
        ],
        [
         52,
         1,
         28
        ],
        [
         54,
         1,
         28
        ],
        [
         56,
         1,
         28
        ],
        [
         57,
         3,
         28
        ],
        [
         58,
         1,
         28
        ],
        [
         59,
         1,
         28
        ],
        [
         60,
         1,
         28
        ],
        [
         62,
         3,
         28
        ],
        [
         63,
         1,
         28
        ],
        [
         65,
         1,
         28
        ],
        [
         75,
         1,
         28
        ],
        [
         78,
         1,
         28
        ],
        [
         81,
         5,
         28
        ],
        [
         82,
         4,
         28
        ],
        [
         83,
         1,
         28
        ],
        [
         85,
         1,
         28
        ],
        [
         88,
         2,
         28
        ],
        [
         89,
         4,
         28
        ],
        [
         90,
         1,
         28
        ],
        [
         92,
         5,
         28
        ],
        [
         94,
         1,
         28
        ],
        [
         95,
         2,
         28
        ],
        [
         98,
         1,
         28
        ],
        [
         99,
         1,
         28
        ],
        [
         3,
         1,
         29
        ],
        [
         4,
         1,
         29
        ],
        [
         5,
         1,
         29
        ],
        [
         7,
         2,
         29
        ],
        [
         9,
         1,
         29
        ],
        [
         10,
         3,
         29
        ],
        [
         11,
         1,
         29
        ],
        [
         13,
         3,
         29
        ],
        [
         14,
         1,
         29
        ],
        [
         15,
         1,
         29
        ],
        [
         17,
         3,
         29
        ],
        [
         19,
         3,
         29
        ],
        [
         22,
         3,
         29
        ],
        [
         23,
         4,
         29
        ],
        [
         25,
         1,
         29
        ],
        [
         29,
         1,
         29
        ],
        [
         31,
         1,
         29
        ],
        [
         32,
         4,
         29
        ],
        [
         33,
         2,
         29
        ],
        [
         36,
         2,
         29
        ],
        [
         38,
         3,
         29
        ],
        [
         39,
         1,
         29
        ],
        [
         42,
         1,
         29
        ],
        [
         46,
         5,
         29
        ],
        [
         49,
         3,
         29
        ],
        [
         51,
         2,
         29
        ],
        [
         59,
         1,
         29
        ],
        [
         61,
         1,
         29
        ],
        [
         62,
         1,
         29
        ],
        [
         67,
         1,
         29
        ],
        [
         68,
         3,
         29
        ],
        [
         69,
         1,
         29
        ],
        [
         70,
         1,
         29
        ],
        [
         74,
         1,
         29
        ],
        [
         75,
         1,
         29
        ],
        [
         79,
         2,
         29
        ],
        [
         80,
         1,
         29
        ],
        [
         81,
         2,
         29
        ],
        [
         83,
         1,
         29
        ],
        [
         85,
         1,
         29
        ],
        [
         86,
         1,
         29
        ],
        [
         90,
         4,
         29
        ],
        [
         93,
         1,
         29
        ],
        [
         94,
         4,
         29
        ],
        [
         97,
         1,
         29
        ],
        [
         99,
         1,
         29
        ]
       ],
       "datasetInfos": [],
       "dbfsResultPath": null,
       "isJsonSchema": true,
       "metadata": {},
       "overflow": false,
       "plotOptions": {
        "customPlotOptions": {},
        "displayType": "table",
        "pivotAggregation": null,
        "pivotColumns": null,
        "xColumns": null,
        "yColumns": null
       },
       "removedWidgets": [],
       "schema": [
        {
         "metadata": "{}",
         "name": "movieId",
         "type": "\"integer\""
        },
        {
         "metadata": "{}",
         "name": "rating",
         "type": "\"integer\""
        },
        {
         "metadata": "{}",
         "name": "userId",
         "type": "\"integer\""
        }
       ],
       "type": "table"
      }
     },
     "output_type": "display_data"
    }
   ],
   "source": [
    "# Reading CSV file and creating dataframe\n",
    "df    = spark.read.format(\"csv\").option(\"header\", \"true\").load(\"dbfs:/FileStore/tables/movies.csv\")\n",
    "\n",
    "# Convert each column to integer type as required by ALS\n",
    "for col_name in df.columns:\n",
    "    df = df.withColumn(col_name, col(col_name).cast(IntegerType()))\n",
    "\n",
    "# Display loaded dataset\n",
    "display(df)"
   ]
  },
  {
   "cell_type": "markdown",
   "metadata": {
    "application/vnd.databricks.v1+cell": {
     "cellMetadata": {},
     "inputWidgets": {},
     "nuid": "a7d9fdaf-1a52-4535-935d-9eb4870732a6",
     "showTitle": false,
     "title": ""
    }
   },
   "source": [
    "##### Question 1: Describe your data. Calculate the top 12 movies with the highest ratings and the top 12 users who provided the highest ratings. Show your code and output. \n",
    "The provided data is a CSV file containing movie ratings given by different users. Each row represents a rating with three columns: movieId, rating, and userId. The dataset consists of 30 users, 100 movies and each movie rated on the scale of 1-5. The results for top 12 movies with the highest ratings and the top 12 users who provided the highest ratings are shown below."
   ]
  },
  {
   "cell_type": "code",
   "execution_count": 0,
   "metadata": {
    "application/vnd.databricks.v1+cell": {
     "cellMetadata": {
      "byteLimit": 2048000,
      "rowLimit": 10000
     },
     "inputWidgets": {},
     "nuid": "8aaf41ca-f63b-4d57-85cc-04a8b39a4243",
     "showTitle": false,
     "title": ""
    }
   },
   "outputs": [
    {
     "output_type": "stream",
     "name": "stdout",
     "output_type": "stream",
     "text": [
      "Top 12 movies with highest average rating are:\n+-------+----------+\n|movieId|avg_rating|\n+-------+----------+\n|     32|    2.9167|\n|     90|    2.8125|\n|     30|       2.5|\n|     94|    2.4737|\n|     23|    2.4667|\n|     49|    2.4375|\n|     29|       2.4|\n|     18|       2.4|\n|     52|    2.3571|\n|     53|      2.25|\n|     62|      2.25|\n|     92|    2.2143|\n+-------+----------+\n\n"
     ]
    }
   ],
   "source": [
    "# Calculate the average rating for each movie and sorting by their average rating in descending order\n",
    "movie_ratings = df.groupBy(\"movieId\").agg(round(avg(\"rating\"), 4).alias(\"avg_rating\"))\n",
    "top_movies = movie_ratings.orderBy(desc(\"avg_rating\")).limit(12)\n",
    "\n",
    "# Show the top 12 movies with highest ratings\n",
    "print(\"Top 12 movies with highest average rating are:\")\n",
    "top_movies.show()"
   ]
  },
  {
   "cell_type": "code",
   "execution_count": 0,
   "metadata": {
    "application/vnd.databricks.v1+cell": {
     "cellMetadata": {
      "byteLimit": 2048000,
      "rowLimit": 10000
     },
     "inputWidgets": {},
     "nuid": "4c281d38-f080-4753-98d5-9e9d0e2d8758",
     "showTitle": false,
     "title": ""
    }
   },
   "outputs": [
    {
     "output_type": "stream",
     "name": "stdout",
     "output_type": "stream",
     "text": [
      "Top 12 users with highest average rating are:\n+------+----------+\n|userId|avg_rating|\n+------+----------+\n|    11|    2.2857|\n|    26|    2.2041|\n|    22|    2.1607|\n|    23|    2.1346|\n|     2|    2.0652|\n|    17|    1.9565|\n|     8|     1.898|\n|    24|    1.8846|\n|    12|    1.8545|\n|     3|    1.8333|\n|    29|    1.8261|\n|    28|      1.82|\n+------+----------+\n\n"
     ]
    }
   ],
   "source": [
    "# Calculate the average rating for each user and sorting by their average rating in descending order\n",
    "movie_ratings = df.groupBy(\"userId\").agg(round(avg(\"rating\"), 4).alias(\"avg_rating\"))\n",
    "top_users = movie_ratings.orderBy(desc(\"avg_rating\")).limit(12)\n",
    "\n",
    "# Show the top 12 movies with highest ratings\n",
    "print(\"Top 12 users with highest average rating are:\")\n",
    "top_users.show()"
   ]
  },
  {
   "cell_type": "markdown",
   "metadata": {
    "application/vnd.databricks.v1+cell": {
     "cellMetadata": {},
     "inputWidgets": {},
     "nuid": "f2cd9331-2112-4582-beb4-2279e4e56c09",
     "showTitle": false,
     "title": ""
    }
   },
   "source": [
    "##### Question 2: Split the dataset into train and test. Try 2 different combinations for e.g. (60/40, 70/30, 75/25 and 80/20). (Train your model and use collaborative filtering approach on 70 percent of your data and test with the other 30 percent and so on). Show your code and output."
   ]
  },
  {
   "cell_type": "code",
   "execution_count": 0,
   "metadata": {
    "application/vnd.databricks.v1+cell": {
     "cellMetadata": {
      "byteLimit": 2048000,
      "rowLimit": 10000
     },
     "inputWidgets": {},
     "nuid": "5d3a7da6-51d9-4b92-8229-868cab99a2e9",
     "showTitle": false,
     "title": ""
    }
   },
   "outputs": [],
   "source": [
    "# Splitting the dataset into 80/20 and 70/30 train and test set\n",
    "(train8020, test8020) = df.randomSplit([0.8, 0.2], seed=42)\n",
    "(train7030, test7030) = df.randomSplit([0.7, 0.3], seed=42)"
   ]
  },
  {
   "cell_type": "code",
   "execution_count": 0,
   "metadata": {
    "application/vnd.databricks.v1+cell": {
     "cellMetadata": {
      "byteLimit": 2048000,
      "rowLimit": 10000
     },
     "inputWidgets": {},
     "nuid": "59722635-e860-4546-9bf2-5d067a29bd17",
     "showTitle": false,
     "title": ""
    }
   },
   "outputs": [],
   "source": [
    "# Creating model object with default parameters and fitting on training datasets\n",
    "als = ALS(userCol=\"userId\", itemCol=\"movieId\", ratingCol=\"rating\", coldStartStrategy=\"drop\", nonnegative=True)\n"
   ]
  },
  {
   "cell_type": "code",
   "execution_count": 0,
   "metadata": {
    "application/vnd.databricks.v1+cell": {
     "cellMetadata": {
      "byteLimit": 2048000,
      "rowLimit": 10000
     },
     "inputWidgets": {},
     "nuid": "e1e85519-45cf-4076-bb3d-712534c339a4",
     "showTitle": false,
     "title": ""
    }
   },
   "outputs": [
    {
     "output_type": "stream",
     "name": "stdout",
     "output_type": "stream",
     "text": [
      "======== ======== \nPredictions on test set of 80/20 split dataset\n+-------+------+------+----------+\n|movieId|rating|userId|prediction|\n+-------+------+------+----------+\n|      2|     4|    28| 2.3499846|\n|     13|     2|    28| 1.9563231|\n|     17|     1|    28| 1.0817308|\n|     52|     1|    28| 0.9489822|\n|     54|     1|    28| 1.0347327|\n|     63|     1|    28|  0.867857|\n|     78|     1|    28|0.86701816|\n|      0|     1|    27|0.82873076|\n|      3|     1|    26| 1.5309827|\n|      4|     4|    26|   2.04725|\n+-------+------+------+----------+\nonly showing top 10 rows\n\n"
     ]
    }
   ],
   "source": [
    "# For 80/20 split dataset\n",
    "# Fitting the model on training data\n",
    "modelDefault8020 = als.fit(train8020)\n",
    "\n",
    "# Predicting the results on test sets\n",
    "predictions8020 = modelDefault8020.transform(test8020)\n",
    "\n",
    "# Predictions on test set of 80/20 split dataset\n",
    "print(\"======== ======== \")\n",
    "print(\"Predictions on test set of 80/20 split dataset\")\n",
    "predictions8020.show(10)"
   ]
  },
  {
   "cell_type": "code",
   "execution_count": 0,
   "metadata": {
    "application/vnd.databricks.v1+cell": {
     "cellMetadata": {
      "byteLimit": 2048000,
      "rowLimit": 10000
     },
     "inputWidgets": {},
     "nuid": "4f1538b0-3e44-4f0e-ab94-e3e29042370a",
     "showTitle": false,
     "title": ""
    }
   },
   "outputs": [
    {
     "output_type": "stream",
     "name": "stdout",
     "output_type": "stream",
     "text": [
      "======== ======== \nPredictions on test set of 70/30 split dataset\n+-------+------+------+----------+\n|movieId|rating|userId|prediction|\n+-------+------+------+----------+\n|      0|     3|    28|0.60361654|\n|      2|     4|    28| 1.9209852|\n|      3|     1|    28| 0.7872818|\n|     13|     2|    28|  1.297262|\n|     17|     1|    28| 1.5905243|\n|     19|     3|    28| 1.7393432|\n|     29|     1|    28| 1.0909404|\n|     50|     1|    28| 1.4662006|\n|     52|     1|    28| 1.4912053|\n|     54|     1|    28| 1.3346343|\n+-------+------+------+----------+\nonly showing top 10 rows\n\n"
     ]
    }
   ],
   "source": [
    "# For 70/30 split dataset\n",
    "# Fitting the model on training data\n",
    "modelDefault7030 = als.fit(train7030)\n",
    "\n",
    "# Predicting the results on test sets\n",
    "predictions7030 = modelDefault7030.transform(test7030)\n",
    "\n",
    "# Predictions on test set of 70/30 split dataset\n",
    "print(\"======== ======== \")\n",
    "print(\"Predictions on test set of 70/30 split dataset\")\n",
    "predictions7030.show(10)"
   ]
  },
  {
   "cell_type": "markdown",
   "metadata": {
    "application/vnd.databricks.v1+cell": {
     "cellMetadata": {},
     "inputWidgets": {},
     "nuid": "7b5c2033-e027-4550-8dc0-f1aab81e16ab",
     "showTitle": false,
     "title": ""
    }
   },
   "source": [
    "##### Question 3: Explain MSE, RMSE and MAE. Compare and evaluate both of your models with evaluation metrics (RMSE or MAE), show your code and print your results. Describe which one works better and why.\n",
    "\n",
    " Mean Squared Error (MSE), Root Mean Squared Error (RMSE), and Mean Absolute Error (MAE) are evaluation metrics used to measure the performance of regression models. Here's an explanation of each metric:\n",
    "\n",
    "- MSE: MSE calculates the average of the squared differences between the predicted values and the actual values. It gives more weight to larger errors, making it sensitive to outliers.\n",
    "MSE = Σ(predicted_value - actual_value)^2 / n\n",
    "\n",
    "- RMSE: RMSE is the square root of MSE. It has the same units as the target variable, making it easier to interpret.\n",
    "RMSE = √(Σ(predicted_value - actual_value)^2 / n)\n",
    "\n",
    "- MAE: MAE calculates the average of the absolute differences between the predicted values and the actual values. It treats all errors equally, making it less sensitive to outliers than MSE and RMSE.\n",
    "MAE = Σ|predicted_value - actual_value| / n\n",
    "\n",
    "Lower values of MSE, RMSE, and MAE indicate better model performance. RMSE and MAE are more interpretable than MSE since they have the same units as the target variable. The choice between RMSE and MAE depends on the problem and the nature of the data. RMSE is more sensitive to outliers, so if your data has many outliers, MAE might be a better choice. However, if outliers are not a concern, RMSE is generally preferred because it gives more weight to larger errors. In our dataset, there are no outliers as all the movie ratings are between 1 and 5, hence I used RMSE to evaluate the performance of my model.\n",
    "\n",
    "The 80/20 split works better for this dataset because it has a relatively small number of instances (1,501 rows). By using 80% of the data for training, the model has enough data points to learn the underlying patterns and generalize well to unseen data. The results are shown below."
   ]
  },
  {
   "cell_type": "code",
   "execution_count": 0,
   "metadata": {
    "application/vnd.databricks.v1+cell": {
     "cellMetadata": {
      "byteLimit": 2048000,
      "rowLimit": 10000
     },
     "inputWidgets": {},
     "nuid": "8e1ec42d-d78d-48d9-a98f-8978b6c51059",
     "showTitle": false,
     "title": ""
    }
   },
   "outputs": [
    {
     "output_type": "stream",
     "name": "stdout",
     "output_type": "stream",
     "text": [
      "Root-mean-square error with 80/20 split on test data = 0.9275246242850462\nRoot-mean-square error with 70/30 split on test data = 1.0780020578144989\n"
     ]
    }
   ],
   "source": [
    "# Evaluate the test set results using RMSE metric\n",
    "evaluatorRMSE = RegressionEvaluator(metricName=\"rmse\", labelCol=\"rating\",\n",
    "                                predictionCol=\"prediction\")\n",
    "rmse8020 = evaluatorRMSE.evaluate(predictions8020)\n",
    "rmse7030 = evaluatorRMSE.evaluate(predictions7030)\n",
    "print(\"Root-mean-square error with 80/20 split on test data = \" + str(rmse8020))\n",
    "print(\"Root-mean-square error with 70/30 split on test data = \" + str(rmse7030))"
   ]
  },
  {
   "cell_type": "markdown",
   "metadata": {
    "application/vnd.databricks.v1+cell": {
     "cellMetadata": {},
     "inputWidgets": {},
     "nuid": "7ae6e42c-c540-4d74-af68-19ac49794dbb",
     "showTitle": false,
     "title": ""
    }
   },
   "source": [
    "##### Question 4: Now tune the parameters of your algorithm to get the best set of parameters. Explain different parameters of the algorithm which you have used for tuning your algorithm. Evaluate all your models again. Show your code with the best values and output.\n",
    "\n",
    "I have used the following paramter:\n",
    "\n",
    "- **rank** is the number of latent factors in the model (defaults to 10).\n",
    "- **maxIter** is the maximum number of iterations to run (defaults to 10).\n",
    "- **regParam** specifies the regularization parameter in ALS (defaults to 1.0).\n",
    "\n",
    "There is not much improvement in RMSE values for both 80/20 split and 70/30 split by optimising hyper parameter grid. The best RMSE split after tuning hyperparamters for 80/20 split is 0.95 and for 70/30 is 1.09."
   ]
  },
  {
   "cell_type": "code",
   "execution_count": 0,
   "metadata": {
    "application/vnd.databricks.v1+cell": {
     "cellMetadata": {
      "byteLimit": 2048000,
      "rowLimit": 10000
     },
     "inputWidgets": {},
     "nuid": "8df1e0d5-7c41-45af-869a-887c1ad693b0",
     "showTitle": false,
     "title": ""
    }
   },
   "outputs": [],
   "source": [
    "# For 80/20 dataset split\n",
    "paramGrid = ParamGridBuilder()\\\n",
    "            .addGrid(als.rank,[12,15,18])\\\n",
    "            .addGrid(als.maxIter,[15,20,25])\\\n",
    "            .addGrid(als.regParam,[0.075, 0.085, 0.1])\\\n",
    "            .build()\n",
    "\n",
    "# crossVal = CrossValidator(estimator=als,\n",
    "#                           estimatorParamMaps=paramGrid,\n",
    "#                           evaluator=evaluatorRMSE,\n",
    "#                           numFolds=3)\n",
    "\n",
    "trainValSplit = TrainValidationSplit(estimator=als, \n",
    "                                     estimatorParamMaps=paramGrid, \n",
    "                                     evaluator=evaluatorRMSE,\n",
    "                                     trainRatio=0.8,\n",
    "                                     parallelism=2, seed=42)\n",
    "\n"
   ]
  },
  {
   "cell_type": "code",
   "execution_count": 0,
   "metadata": {
    "application/vnd.databricks.v1+cell": {
     "cellMetadata": {
      "byteLimit": 2048000,
      "rowLimit": 10000
     },
     "inputWidgets": {},
     "nuid": "4e7b99b3-afde-40f9-94a6-9ebffa588185",
     "showTitle": false,
     "title": ""
    }
   },
   "outputs": [
    {
     "output_type": "stream",
     "name": "stdout",
     "output_type": "stream",
     "text": [
      "Best Rank: 15\nBest MaxIter: 20\nBest RegParam: 0.075\n"
     ]
    }
   ],
   "source": [
    "# # For 80/20 split dataset\n",
    "# Fitting the model on traing data of 80/20 split\n",
    "model8020 = trainValSplit.fit(train8020)\n",
    "\n",
    "# Best model\n",
    "bestmodel8020 = model8020.bestModel\n",
    "\n",
    "# Get the ALS estimator that was used to fit the best model\n",
    "bestRank = bestmodel8020._java_obj.parent().getRank()\n",
    "bestMaxIter = bestmodel8020._java_obj.parent().getMaxIter()\n",
    "bestRegParam = bestmodel8020._java_obj.parent().getRegParam()\n",
    "\n",
    "print(f\"Best Rank: {bestRank}\")\n",
    "print(f\"Best MaxIter: {bestMaxIter}\")\n",
    "print(f\"Best RegParam: {bestRegParam}\")"
   ]
  },
  {
   "cell_type": "code",
   "execution_count": 0,
   "metadata": {
    "application/vnd.databricks.v1+cell": {
     "cellMetadata": {
      "byteLimit": 2048000,
      "rowLimit": 10000
     },
     "inputWidgets": {},
     "nuid": "652c426a-7ce9-44fc-a809-01dd69a2870a",
     "showTitle": false,
     "title": ""
    }
   },
   "outputs": [
    {
     "output_type": "stream",
     "name": "stdout",
     "output_type": "stream",
     "text": [
      "+-------+------+------+----------+\n|movieId|rating|userId|prediction|\n+-------+------+------+----------+\n|      2|     4|    28|  2.486236|\n|     13|     2|    28| 2.3335807|\n|     17|     1|    28| 1.0599709|\n|     52|     1|    28| 1.0590941|\n|     54|     1|    28| 0.8223515|\n|     63|     1|    28| 1.1412219|\n|     78|     1|    28|0.79123265|\n|      0|     1|    27|0.77941245|\n|      3|     1|    26| 1.3478315|\n|      4|     4|    26| 1.6788038|\n+-------+------+------+----------+\nonly showing top 10 rows\n\nRoot-mean-square error = 0.9384031582310887\n"
     ]
    }
   ],
   "source": [
    "# Use the best model to make predictions on the test data\n",
    "predictions8020 = bestmodel8020.transform(test8020)\n",
    "predictions8020.show(10)\n",
    "\n",
    "# Calculate RMSE on test set of 80/20 split\n",
    "rmse8020 = evaluatorRMSE.evaluate(predictions8020)\n",
    "print(f\"Root-mean-square error = {rmse8020}\")"
   ]
  },
  {
   "cell_type": "code",
   "execution_count": 0,
   "metadata": {
    "application/vnd.databricks.v1+cell": {
     "cellMetadata": {
      "byteLimit": 2048000,
      "rowLimit": 10000
     },
     "inputWidgets": {},
     "nuid": "44704432-0a61-4e34-a6c1-0b844885983f",
     "showTitle": false,
     "title": ""
    }
   },
   "outputs": [
    {
     "output_type": "stream",
     "name": "stdout",
     "output_type": "stream",
     "text": [
      "======== ======== \nPredictions on test set of 80/20 split dataset\n+-------+------+------+----------+\n|movieId|rating|userId|prediction|\n+-------+------+------+----------+\n|      2|     4|    28|  2.486236|\n|     13|     2|    28| 2.3335807|\n|     17|     1|    28| 1.0599709|\n|     52|     1|    28| 1.0590941|\n|     54|     1|    28| 0.8223515|\n|     63|     1|    28| 1.1412219|\n|     78|     1|    28|0.79123265|\n|      0|     1|    27|0.77941245|\n|      3|     1|    26| 1.3478315|\n|      4|     4|    26| 1.6788038|\n+-------+------+------+----------+\nonly showing top 10 rows\n\n"
     ]
    }
   ],
   "source": [
    "alsBest = ALS(rank=bestRank, maxIter=bestMaxIter, regParam=bestRegParam, userCol=\"userId\", itemCol=\"movieId\", ratingCol=\"rating\", coldStartStrategy=\"drop\", nonnegative=True)\n",
    "\n",
    "# Fitting the model on training data\n",
    "model8020 = alsBest.fit(train8020)\n",
    "\n",
    "# Predicting the results on test sets\n",
    "predictions8020 = model8020.transform(test8020)\n",
    "\n",
    "# Predictions on test set of 80/20 split dataset\n",
    "print(\"======== ======== \")\n",
    "print(\"Predictions on test set of 80/20 split dataset\")\n",
    "predictions8020.show(10)"
   ]
  },
  {
   "cell_type": "code",
   "execution_count": 0,
   "metadata": {
    "application/vnd.databricks.v1+cell": {
     "cellMetadata": {
      "byteLimit": 2048000,
      "rowLimit": 10000
     },
     "inputWidgets": {},
     "nuid": "382380d1-a0ee-4547-b1f1-b5255caf2ea3",
     "showTitle": false,
     "title": ""
    }
   },
   "outputs": [
    {
     "output_type": "stream",
     "name": "stdout",
     "output_type": "stream",
     "text": [
      "Root-mean-square error = 0.9384031582310887\n"
     ]
    }
   ],
   "source": [
    "# Calculate RMSE on test set of 80/20 split\n",
    "rmse8020 = evaluatorRMSE.evaluate(predictions8020)\n",
    "print(f\"Root-mean-square error = {rmse8020}\")"
   ]
  },
  {
   "cell_type": "code",
   "execution_count": 0,
   "metadata": {
    "application/vnd.databricks.v1+cell": {
     "cellMetadata": {
      "byteLimit": 2048000,
      "rowLimit": 10000
     },
     "inputWidgets": {},
     "nuid": "486fdfc6-327e-4e2d-9021-f3060edcb912",
     "showTitle": false,
     "title": ""
    }
   },
   "outputs": [
    {
     "output_type": "stream",
     "name": "stdout",
     "output_type": "stream",
     "text": [
      "Best Rank: 18\nBest MaxIter: 25\nBest RegParam: 0.1\n"
     ]
    }
   ],
   "source": [
    "# For 70/30 dataset split\n",
    "paramGrid = ParamGridBuilder()\\\n",
    "            .addGrid(als.rank,[12,15,18])\\\n",
    "            .addGrid(als.maxIter,[15,20,25])\\\n",
    "            .addGrid(als.regParam,[0.075, 0.085, 0.1])\\\n",
    "            .build()\n",
    "\n",
    "trainValSplit = TrainValidationSplit(estimator=als, \n",
    "                                     estimatorParamMaps=paramGrid, \n",
    "                                     evaluator=evaluatorRMSE,\n",
    "                                     trainRatio=0.8,\n",
    "                                     parallelism=2, seed=42)\n",
    "\n",
    "# Fitting the model on traing data of 70/30 split\n",
    "model7030 = trainValSplit.fit(train7030)\n",
    "\n",
    "# Best model\n",
    "bestmodel7030 = model7030.bestModel\n",
    "\n",
    "# Get the ALS estimator that was used to fit the best model\n",
    "bestRank = bestmodel7030._java_obj.parent().getRank()\n",
    "bestMaxIter = bestmodel7030._java_obj.parent().getMaxIter()\n",
    "bestRegParam = bestmodel7030._java_obj.parent().getRegParam()\n",
    "\n",
    "print(f\"Best Rank: {bestRank}\")\n",
    "print(f\"Best MaxIter: {bestMaxIter}\")\n",
    "print(f\"Best RegParam: {bestRegParam}\")"
   ]
  },
  {
   "cell_type": "code",
   "execution_count": 0,
   "metadata": {
    "application/vnd.databricks.v1+cell": {
     "cellMetadata": {
      "byteLimit": 2048000,
      "rowLimit": 10000
     },
     "inputWidgets": {},
     "nuid": "d46c4ec8-49b3-4fe8-a613-4e6f39fb7cc1",
     "showTitle": false,
     "title": ""
    }
   },
   "outputs": [
    {
     "output_type": "stream",
     "name": "stdout",
     "output_type": "stream",
     "text": [
      "+-------+------+------+----------+\n|movieId|rating|userId|prediction|\n+-------+------+------+----------+\n|     31|     1|    27| 1.5220054|\n|     31|     1|    13| 1.1410546|\n|     31|     1|     5| 1.5448587|\n|     31|     1|    19| 1.0114135|\n|     31|     3|    14| 1.7945395|\n|     31|     1|     0| 1.8213575|\n|     85|     1|    26| 2.3645499|\n|     85|     1|    13| 1.2472625|\n|     85|     3|     6| 1.6347357|\n|     85|     1|     5| 1.3983475|\n+-------+------+------+----------+\nonly showing top 10 rows\n\nRoot-mean-square error = 1.0815026297803374\n"
     ]
    }
   ],
   "source": [
    "# Use the best model to make predictions on the test data\n",
    "predictions7030 = bestmodel7030.transform(test7030)\n",
    "predictions7030.show(10)\n",
    "\n",
    "# Calculate RMSE on test set of 70/30 split\n",
    "rmse7030 = evaluatorRMSE.evaluate(predictions7030)\n",
    "print(f\"Root-mean-square error = {rmse7030}\")"
   ]
  },
  {
   "cell_type": "code",
   "execution_count": 0,
   "metadata": {
    "application/vnd.databricks.v1+cell": {
     "cellMetadata": {
      "byteLimit": 2048000,
      "rowLimit": 10000
     },
     "inputWidgets": {},
     "nuid": "1017fa6d-1637-4f31-9e16-bb7ba98320d2",
     "showTitle": false,
     "title": ""
    }
   },
   "outputs": [
    {
     "output_type": "stream",
     "name": "stdout",
     "output_type": "stream",
     "text": [
      "======== ======== \nPredictions on test set of 70/30 split dataset\n+-------+------+------+----------+\n|movieId|rating|userId|prediction|\n+-------+------+------+----------+\n|     31|     1|    27| 1.5220054|\n|     31|     1|    13| 1.1410546|\n|     31|     1|     5| 1.5448587|\n|     31|     1|    19| 1.0114135|\n|     31|     3|    14| 1.7945395|\n|     31|     1|     0| 1.8213575|\n|     85|     1|    26| 2.3645499|\n|     85|     1|    13| 1.2472625|\n|     85|     3|     6| 1.6347357|\n|     85|     1|     5| 1.3983475|\n+-------+------+------+----------+\nonly showing top 10 rows\n\nRoot-mean-square error = 1.0815026297803372\n"
     ]
    }
   ],
   "source": [
    "alsBest = ALS(rank=bestRank, maxIter=bestMaxIter, regParam=bestRegParam, userCol=\"userId\", itemCol=\"movieId\", ratingCol=\"rating\", coldStartStrategy=\"drop\", nonnegative=True)\n",
    "\n",
    "# Fitting the model on training data\n",
    "model7030 = alsBest.fit(train7030)\n",
    "\n",
    "# Predicting the results on test sets\n",
    "predictions7030 = model7030.transform(test7030)\n",
    "\n",
    "# Predictions on test set of 70/30 split dataset\n",
    "print(\"======== ======== \")\n",
    "print(\"Predictions on test set of 70/30 split dataset\")\n",
    "predictions7030.show(10)\n",
    "\n",
    "# Calculate RMSE on test set of 70/30 split\n",
    "rmse7030 = evaluatorRMSE.evaluate(predictions7030)\n",
    "print(f\"Root-mean-square error = {rmse7030}\")"
   ]
  },
  {
   "cell_type": "markdown",
   "metadata": {
    "application/vnd.databricks.v1+cell": {
     "cellMetadata": {},
     "inputWidgets": {},
     "nuid": "594256ef-6981-4672-97ce-72617bb1a24c",
     "showTitle": false,
     "title": ""
    }
   },
   "source": [
    "I am getting worse results after hyperparameter tuning, despite trying different combinations. I believe the main cause is that TrainValidationSplit uses with 80% of the training data for training and 20% for validation effectively reduces the overall training data to only 64% of the original data, which is already very small (1501 datapoints). This reduction likely leads to overfitting as the model is optimized using a parametric grid approach with a limited dataset. Hence I will be using original model with default hyperparamters (i.e rank = 10, maxIter = 10, regParam = 0.1, numUserBlocks = 10, numItemBlocks = 10) in Q5, which is best overall. "
   ]
  },
  {
   "cell_type": "markdown",
   "metadata": {
    "application/vnd.databricks.v1+cell": {
     "cellMetadata": {},
     "inputWidgets": {},
     "nuid": "598b86d3-4764-46b6-8a48-0a36be92a752",
     "showTitle": false,
     "title": ""
    }
   },
   "source": [
    "##### Question 5: Calculate the top 12 movie recommendations for user ID 10 and user ID 12. Show your code and output. \n"
   ]
  },
  {
   "cell_type": "code",
   "execution_count": 0,
   "metadata": {
    "application/vnd.databricks.v1+cell": {
     "cellMetadata": {
      "byteLimit": 2048000,
      "rowLimit": 10000
     },
     "inputWidgets": {},
     "nuid": "8af4b5e7-acaf-4775-b490-9c6eba52590f",
     "showTitle": false,
     "title": ""
    }
   },
   "outputs": [
    {
     "output_type": "stream",
     "name": "stdout",
     "output_type": "stream",
     "text": [
      "Top 12 movie recommendations for user ID 10:\nUserID: 10, MovieIDs: [92, 40, 12, 81, 49, 25, 89, 42, 62, 4, 9, 82], Ratings: ['3.401', '2.894', '2.884', '2.694', '2.605', '2.574', '2.555', '2.466', '2.390', '2.347', '2.317', '2.240']\n\nTop 12 movie recommendations for user ID 12:\nUserID: 12, MovieIDs: [17, 55, 27, 64, 65, 46, 35, 50, 48, 90, 20, 32], Ratings: ['4.570', '4.453', '4.127', '4.122', '3.907', '3.815', '3.809', '3.555', '3.482', '3.465', '3.437', '3.354']\n"
     ]
    }
   ],
   "source": [
    "# Create a DataFrame with the specific user IDs (10 and 12)\n",
    "users_to_recommend = df.select(als.getUserCol()).distinct().filter(col(\"userId\").isin([10, 12]))\n",
    "\n",
    "# Get the top 12 movie recommendations for each specified user\n",
    "user_recommendations = modelDefault8020.recommendForUserSubset(users_to_recommend, 12)\n",
    "\n",
    "# Extract and print recommendations for user ID 10 and user ID 12\n",
    "user_recommendations_df = user_recommendations.select(\"userId\", \"recommendations.movieId\", \"recommendations.rating\")\n",
    "\n",
    "user_10_recommendations = user_recommendations_df.filter(col(\"userId\") == 10).collect()\n",
    "user_12_recommendations = user_recommendations_df.filter(col(\"userId\") == 12).collect()\n",
    "\n",
    "print(\"Top 12 movie recommendations for user ID 10:\")\n",
    "for row in user_10_recommendations:\n",
    "    movie_ids = row.movieId\n",
    "    ratings = row.rating\n",
    "    formatted_ratings = [f\"{rating:.3f}\" for rating in ratings]\n",
    "    print(f\"UserID: {row.userId}, MovieIDs: {movie_ids}, Ratings: {formatted_ratings}\")\n",
    "\n",
    "print(\"\\nTop 12 movie recommendations for user ID 12:\")\n",
    "for row in user_12_recommendations:\n",
    "    movie_ids = row.movieId\n",
    "    ratings = row.rating\n",
    "    formatted_ratings = [f\"{rating:.3f}\" for rating in ratings]\n",
    "    print(f\"UserID: {row.userId}, MovieIDs: {movie_ids}, Ratings: {formatted_ratings}\")\n"
   ]
  }
 ],
 "metadata": {
  "application/vnd.databricks.v1+notebook": {
   "dashboards": [],
   "environmentMetadata": null,
   "language": "python",
   "notebookMetadata": {
    "pythonIndentUnit": 4
   },
   "notebookName": "Assignment2",
   "widgets": {}
  }
 },
 "nbformat": 4,
 "nbformat_minor": 0
}
